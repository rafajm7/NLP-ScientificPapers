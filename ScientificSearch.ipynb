{
 "cells": [
  {
   "cell_type": "markdown",
   "metadata": {},
   "source": [
    "# Análisis y búsqueda sobre un corpus de documentos científicos"
   ]
  },
  {
   "cell_type": "markdown",
   "metadata": {},
   "source": [
    "Nos disponemos en este notebook a mostrar los pasos seguidos para la realización de la primera práctica de la asignatura, incluyendo los dos ejercicios opcionales sobre Gensim y Whoosh."
   ]
  },
  {
   "cell_type": "markdown",
   "metadata": {},
   "source": [
    "# Importación de librerías"
   ]
  },
  {
   "cell_type": "markdown",
   "metadata": {},
   "source": [
    "Antes de comenzar con la extracción de artículos de *Google Scholar*, importamos todas las librerías que se van a usar a lo largo de la realización de la práctica."
   ]
  },
  {
   "cell_type": "code",
   "execution_count": 1,
   "metadata": {},
   "outputs": [],
   "source": [
    "# librería que nos permite extraer artículos científicos de Google Scholar\n",
    "import scholarly\n",
    "\n",
    "# librería necesaria para leer archivos de la web\n",
    "from urllib.request import urlopen  \n",
    "\n",
    "# importamos la librería que nos permite realizar operaciones con ficheros json, como lectura y escritura\n",
    "import json\n",
    "\n",
    "# funciones del parser PDFMiner que se necesitan\n",
    "from pdfminer.pdfparser import PDFParser, PDFSyntaxError\n",
    "from pdfminer.pdfdocument import PDFDocument\n",
    "from pdfminer.pdfpage import PDFPage\n",
    "from pdfminer.pdfpage import PDFTextExtractionNotAllowed\n",
    "from pdfminer.pdfinterp import PDFResourceManager\n",
    "from pdfminer.pdfinterp import PDFPageInterpreter\n",
    "from pdfminer.layout import LAParams\n",
    "from pdfminer.converter import TextConverter\n",
    "\n",
    "# funciones de entrada/salida necesarias en el parseado\n",
    "from io import BytesIO\n",
    "from io import StringIO\n",
    "\n",
    "# funciones de scikit-learn necesarias para vectorizar la colección de documentos\n",
    "from sklearn.feature_extraction.text import CountVectorizer, TfidfVectorizer\n",
    "\n",
    "# librería que nos permite aplicar Gensim\n",
    "import gensim\n",
    "import gensim.corpora as corpora\n",
    "from gensim.utils import simple_preprocess\n",
    "from gensim.models import CoherenceModel\n",
    "\n",
    "# librerías que usaremos durante el proceso de aplicación de Gensim\n",
    "import re\n",
    "import numpy as np\n",
    "import pandas as pd\n",
    "from pprint import pprint\n",
    "\n",
    "# librería spacy para la \"lemmatización\" en Gensim\n",
    "import spacy\n",
    "\n",
    "# para descargar stopwords disponibles en la librería nltk\n",
    "from nltk.corpus import stopwords\n",
    "\n",
    "# para poder obtener las stopwords de nltk, hemos de ejecutar la siguiente línea, la cual mostramos comentada porque ya las tenemos descargadas\n",
    "# nltk.download('stopwords')\n",
    "\n",
    "# herramientas de plotting para gensim\n",
    "import pyLDAvis\n",
    "import pyLDAvis.gensim\n",
    "\n",
    "# librerías y funciones usadas para aplicar Whoosh\n",
    "from whoosh.fields import Schema, TEXT, KEYWORD, ID, STORED\n",
    "from whoosh.analysis import StandardAnalyzer\n",
    "from whoosh import index\n",
    "from whoosh.qparser import QueryParser\n"
   ]
  },
  {
   "cell_type": "markdown",
   "metadata": {},
   "source": [
    "# Extracción de artículos"
   ]
  },
  {
   "cell_type": "markdown",
   "metadata": {},
   "source": [
    "En esta sección vamos a mostrar los pasos 1, 2 y 3 pedidos en el enunciado de la práctica sobre la obtención de artículos científicos de *Google Scholar* y su posterior almacenamiento en disco."
   ]
  },
  {
   "cell_type": "markdown",
   "metadata": {},
   "source": [
    "El primer paso es utilizar la librería *scholarly* para obtener artículos científicos de una serie de tópicos. Para ello hemos usado la función *search_pubs_query*, que devuelve un generador con objetos estilo *json* que tienen la siguiente estructura:"
   ]
  },
  {
   "cell_type": "markdown",
   "metadata": {},
   "source": [
    "- **_filled**\n",
    "- **bib**\n",
    "   - abstract, e.g.: \"420\"\n",
    "   - author, e.g.: \"Antonio López\"\n",
    "   - eprint, e.g.: \"http://sigitwidiyanto.staff.gunadarma.ac.id/Downloads/files/38034/M8-Note-kMeans.pdf\"\n",
    "   - title, e.g.: \"K-means clustering tutorial\"\n",
    "   - url, e.g.: \"http://sigitwidiyanto.staff.gunadarma.ac.id/Downloads/files/38034/M8-Note-kMeans.pdf\"\n",
    "- **source**\n",
    "- **citedby** \n",
    "<br>\n",
    "..."
   ]
  },
  {
   "cell_type": "markdown",
   "metadata": {},
   "source": [
    "La información que nos interesa extraer se encuentra dentro del campo *bib*. En concreto, vamos a extraer el título, el autor, el abstract y la url del artículo. <br>\n",
    "Examinando los resultados de obtener artículos mediante esta función, hemos observado que hay artículos que tienen la url en los campos *eprint* y *url*, otros solamente en *url* o *eprint*, y otros en ninguno. Por ello, cuando procesemos la información de los artículos, realizaremos un análisis de casos para quedarnos con el elemento que tenga la url, si existe."
   ]
  },
  {
   "cell_type": "markdown",
   "metadata": {},
   "source": [
    "Antes de realizar las llamadas a la función de *scholarly* con los diferentes tópicos, vamos a definir una función que nos permite *parsear* y extraer el texto de un archivo pdf existente en una página web. La primera librería que se intentó usar para este *parseado* fue PyPDF2. Sin embargo, esta tiene una limitación muy grande: devuelve todos los caracteres juntos salvo los espacios, lo que hace que el texto sea ilegible. Por ello decidió usarse la librería PDFMiner, con la que se consiguió *parsear* los PDFs de manera correcta."
   ]
  },
  {
   "cell_type": "markdown",
   "metadata": {},
   "source": [
    "La función creada utiliza la librería *urllib* para leer el PDF y a continuación *parsea* el fichero y va procesando página a página el documento para guardar cada una de las líneas del fichero en una lista de strings. El último paso es aplicar la función *join* para concatenar todos los elementos de la lista en un mismo string cuyas líneas estén separadas por saltos de línea.\n",
    "\n",
    "A lo largo de la función se han ido añadiendo bloques *try - except* para devolver cadenas vacías en caso de que ocurra un error al leer y extraer el fichero PDF. Algunos de esos errores que hemos percibido son que el artículo ya no existe, que hay que pasar un certificado para obtener el artículo, o que aunque la extensión sea .pdf el archivo no es realmente un pdf."
   ]
  },
  {
   "cell_type": "code",
   "execution_count": 2,
   "metadata": {},
   "outputs": [],
   "source": [
    "def pdf_url2txt(url):\n",
    "        \n",
    "    # para evitar errores como que el archivo ya no exista o que haya que pasar un certificado\n",
    "    try:\n",
    "        remoteFile = urlopen(url).read()\n",
    "    except:\n",
    "        return ''\n",
    "\n",
    "    # stream que recibe los bytes devueltos por la función read\n",
    "    memoryFile = BytesIO(remoteFile)\n",
    "    parser = PDFParser(memoryFile)\n",
    "    \n",
    "    # si no se puede extraer el documento, devolvemos la cadena vacía\n",
    "    try:\n",
    "        document = PDFDocument(parser)\n",
    "    except: \n",
    "        return ''\n",
    "    \n",
    "    if not document.is_extractable:\n",
    "        return ''\n",
    "    \n",
    "    rsrcmgr = PDFResourceManager()\n",
    "    \n",
    "    # creamos un buffer para el texto parseado\n",
    "    retstr = StringIO()\n",
    "    \n",
    "    # parámetros de espaciado para el parsing\n",
    "    laparams = LAParams()\n",
    "    codec = 'utf-8'\n",
    "     \n",
    "    device = TextConverter(rsrcmgr, retstr, \n",
    "                           codec = codec, \n",
    "                           laparams = laparams)\n",
    "    \n",
    "    # Creamos un objeto de intérprete de PDFs\n",
    "    interpreter = PDFPageInterpreter(rsrcmgr, device)\n",
    "    \n",
    "    # Procesamos cada página del documento\n",
    "    for page in PDFPage.create_pages(document):\n",
    "        interpreter.process_page(page)\n",
    "     \n",
    "    # Guardamos cada línea en una lista\n",
    "    records = []\n",
    "    lines = retstr.getvalue().splitlines()\n",
    "    for line in lines:\n",
    "        records.append(line)\n",
    "    \n",
    "    # Concatenamos los elementos de la lista en un string final\n",
    "    rec = '\\n'.join(records)\n",
    "    return rec"
   ]
  },
  {
   "cell_type": "markdown",
   "metadata": {},
   "source": [
    "Una vez creada la función para *parsear* los PDFs, procedemos a aplicar la función de búsqueda de *scholarly* para 5 tópicos distintos. En ellos hemos mezclado conceptos de redes, análisis complejo, procesamiento de imágenes, aprendizaje no supervisado y bases de datos. El objetivo es observar si cuando apliquemos Gensim y obtengamos 5 tópicos, este los separa en los 5 grupos que introducimos aquí. \n",
    "\n",
    "Para cada uno de esos tópicos, comprobamos si tiene una url que acaba en '.pdf' o no. Si conseguimos parsearla, se guarda en una variable *text*, mientras que si no podemos, se asigna a *text* la cadena vacía. De igual manera ocurre con el abstract. Una vez tenemos todos los campos mencionados anteriormente, los añadimos a una lista de diccionarios que guardan la información de cada uno de los artículos, sean del tópico que sean."
   ]
  },
  {
   "cell_type": "markdown",
   "metadata": {},
   "source": [
    "Hemos decidido que el número de artículos descargados para cada tópico sea de 30, lo que nos da un total de 150 artículos. Para este fin hemos creado una variable *cont* que cuenta el número de iteraciones por artículo y para el bucle cuando se llega a 30."
   ]
  },
  {
   "cell_type": "code",
   "execution_count": 3,
   "metadata": {
    "scrolled": true
   },
   "outputs": [],
   "source": [
    "# elegimos los tópicos\n",
    "topics = [\"cauchy-riemann equations\", \"image processing\", \"eduroam internet\", \"k-mean clustering\", \"NoSQL databases\"]\n",
    "data_articles = []\n",
    "\n",
    "# para cada tópico, extraemos 30 artículos, añadiendo a la lista data_articles sus características\n",
    "for topic in topics:\n",
    "    pubs = scholarly.search_pubs_query(topic)\n",
    "    cont = 0\n",
    "    for pub in pubs:\n",
    "        \n",
    "        # añadimos el texto si existe un pdf accesible que contenga el artículo\n",
    "        text = ''\n",
    "        if 'url' in pub.bib:\n",
    "            if pub.bib['url'].endswith('.pdf'):\n",
    "                text = pdf_url2txt(pub.bib['url'])\n",
    "        elif text == '' and 'eprint' in pub.bib:\n",
    "            if pub.bib['eprint'].endswith('.pdf'):\n",
    "                text = pdf_url2txt(pub.bib['eprint'])\n",
    "\n",
    "        # añadimos el abstract si está disponible\n",
    "        abstract = ''\n",
    "        if 'abstract' in pub.bib:\n",
    "            abstract = pub.bib['abstract']\n",
    "\n",
    "        # añadimos los campos de cada artículo como un diccionario a la lista data_articles\n",
    "        data_articles.append({\n",
    "            'text': text,\n",
    "            'abstract': abstract,\n",
    "            'title': pub.bib['title'],\n",
    "            'author': pub.bib['author']\n",
    "        })\n",
    "        \n",
    "        cont += 1\n",
    "        if cont == 30: \n",
    "            break"
   ]
  },
  {
   "cell_type": "markdown",
   "metadata": {},
   "source": [
    "Para cumplir con el apartado 3 de la práctica, hemos decidido guardar los datos en disco en un formato json, usando la función *json.dump*. Lo que hace el siguiente código es: \n",
    "1. Trata de abrir el fichero pubs.json existente en nuestro directorio actual, para escritura.\n",
    "2. Escribe la anterior lista en el fichero utilizando usando como nivel de indentación 3, para que la salida sea más legible.\n",
    "3. La sentencia *with* se encarga de cerrar el fichero una vez terminemos de escribir."
   ]
  },
  {
   "cell_type": "code",
   "execution_count": 4,
   "metadata": {},
   "outputs": [],
   "source": [
    "with open('pubs.json', 'w') as json_file:\n",
    "    json.dump(data_articles, json_file, indent=3)"
   ]
  },
  {
   "cell_type": "markdown",
   "metadata": {},
   "source": [
    "# Procesamiento del corpus para la vectorización"
   ]
  },
  {
   "cell_type": "markdown",
   "metadata": {},
   "source": [
    "En esta sección vamos a realizar el apartado 4 de la tarea. Primero, para formar la colección de artículos que se va a vectorizar, vamos a crear una lista que contenga, si existe, el texto de los artículos. En su defecto, se usará el abstract. Y si tampoco tiene abstract, añadimos el título:"
   ]
  },
  {
   "cell_type": "code",
   "execution_count": 5,
   "metadata": {},
   "outputs": [],
   "source": [
    "articles = []\n",
    "for article in data_articles:\n",
    "    if article[\"text\"] != \"\":\n",
    "        articles.append(article[\"text\"])\n",
    "    elif article[\"abstract\"] != \"\":\n",
    "        articles.append(article[\"abstract\"])\n",
    "    else:\n",
    "        articles.append(article[\"title\"])"
   ]
  },
  {
   "cell_type": "markdown",
   "metadata": {},
   "source": [
    "Para la realización de este apartado, siguiendo las indicaciones del enunciado de la práctica, hemos usado la librería *scikit-learn*. Comenzamos con el cálculo de los 50 términos más \"centrales\" de la colección, usando el TfIdfVectorizer. "
   ]
  },
  {
   "cell_type": "markdown",
   "metadata": {},
   "source": [
    "El primer paso es crear un objeto TfIdfVectorizer al que le imponemos, usando distintos parámetros:\n",
    "- Que las *stopwords* sean en inglés, ya que hemos buscado los artículos en inglés.\n",
    "- Que queremos únicamente las palabras que aparezcan como mínimo en 10 documentos. Esto se realiza mediante el parámetro min_df, que puede ser de dos tipos: float entre 0 y 1, que indica la proporción de documentos en los que tienen que aparecer los términos, o entero, que indica el número mínimo de documentos en los que queremos que aparezcan. En nuestro caso, lo hemos usado como float, y le hemos asignado el valor 10/total de documentos (sería lo mismo que poner min_df = 10).\n",
    "- Una expresión regular que hace que solo se muestren palabras con letras (no números), y que contengan como mínimo dos caracteres."
   ]
  },
  {
   "cell_type": "markdown",
   "metadata": {},
   "source": [
    "Una vez creado el objeto, se utiliza la función *fit_transform* para devolver una matriz que contiene el TF-IDF de cada término (representado como un entero) en cada documento. Para obtener lo que nos pide el enunciado, hemos de obtener la suma de los tf-idf a lo largo de la colección para cada término. Primero, convertimos la matriz obtenida en el paso anterior en un array de arrays, y una vez lo tenemos sumamos todos los arrays para obtener un único vector que contiene la suma para cada palabra. Esta suma la hemos realizado con *numpy*, que de forma sencilla nos permite aplicar operaciones a los arrays en cualquiera de sus ejes. En este caso, diciéndole que queremos sumar el eje 0, suma cada uno de los elementos del array principal, es decir, cada uno de los arrays contenidos en él."
   ]
  },
  {
   "cell_type": "code",
   "execution_count": 6,
   "metadata": {},
   "outputs": [],
   "source": [
    "vectorizer_center = TfidfVectorizer(stop_words='english', min_df = 10/len(data_articles), token_pattern=r'(?u)\\b[A-Za-z][A-Za-z]+\\b')\n",
    "tfidf_matrix = vectorizer_center.fit_transform(articles)\n",
    "# calculamos la suma del tf idf a lo largo de todos los artículos\n",
    "tfidf_sum = np.sum(tfidf_matrix.toarray(), axis = 0)"
   ]
  },
  {
   "cell_type": "markdown",
   "metadata": {},
   "source": [
    "Una vez aplicados los pasos anteriores, ya tenemos en un único array la suma de los TF-IDF de cada palabra a lo largo de la colección. Como hemos indicado, la función *fit_transform* nos ha devuelto cada palabra como un número, pero nosotros queremos saber cuáles son esas palabras. Utilizando la función *get_feature_names* las obtenemos. "
   ]
  },
  {
   "cell_type": "markdown",
   "metadata": {},
   "source": [
    "Ya solo queda un paso, obtener las palabras con mayor TF-IDF. Para ello, dado que los índices de ambos vectores (*tfidf_sum* y *tfidf_names*) hacen referencia a los mismos términos, únicamente tenemos que ordenar el primer vector en orden descendente y reordenar el segundo en base al primero. Para ello hemos usado la función *zip*, que devuelve pares de elementos de dos listas distintas, y sobre ese objeto *zip* aplicamos la función *sorted*, la cual, si no se le indica lo contrario, ordena la colección de tuplas en base al primer elemento de las tuplas. Si de esa colección ordenada extraemos el vector con los segundos elementos de las tuplas, obtenemos los nombres ordenados por valor de TF-IDF. Por último, extraemos los 50 primeros términos de ese vector y ya tenemos los 50 términos más \"centrales\" de la colección."
   ]
  },
  {
   "cell_type": "code",
   "execution_count": 7,
   "metadata": {},
   "outputs": [],
   "source": [
    "# obtenemos las palabras devueltas por el vectorizer\n",
    "tfidf_names = vectorizer_center.get_feature_names()\n",
    "# ordenamos la lista de la puntuación tfidf y obtenemos los nombres asociados a cada puntuación usando la función zip, y nos quedamos\n",
    "# con las 50 palabras con la puntuación más alta.\n",
    "centered_names = [x for _,x in sorted(zip(tfidf_sum,tfidf_names), reverse = True)][:50]"
   ]
  },
  {
   "cell_type": "markdown",
   "metadata": {},
   "source": [
    "Las 50 palabras más centrales obtenidas son las siguientes:"
   ]
  },
  {
   "cell_type": "code",
   "execution_count": 8,
   "metadata": {
    "scrolled": true
   },
   "outputs": [
    {
     "data": {
      "text/plain": [
       "['image',\n",
       " 'data',\n",
       " 'eduroam',\n",
       " 'processing',\n",
       " 'databases',\n",
       " 'nosql',\n",
       " 'equations',\n",
       " 'cauchy',\n",
       " 'internet',\n",
       " 'clustering',\n",
       " 'riemann',\n",
       " 'digital',\n",
       " 'algorithm',\n",
       " 'access',\n",
       " 'la',\n",
       " 'used',\n",
       " 'database',\n",
       " 'relational',\n",
       " 'en',\n",
       " 'segmentation',\n",
       " 'paper',\n",
       " 'using',\n",
       " 'images',\n",
       " 'mean',\n",
       " 'complex',\n",
       " 'computer',\n",
       " 'based',\n",
       " 'book',\n",
       " 'systems',\n",
       " 'cluster',\n",
       " 'applications',\n",
       " 'large',\n",
       " 'network',\n",
       " 'real',\n",
       " 'number',\n",
       " 'institutions',\n",
       " 'user',\n",
       " 'new',\n",
       " 'analysis',\n",
       " 'radius',\n",
       " 'problem',\n",
       " 'users',\n",
       " 'use',\n",
       " 'roaming',\n",
       " 'order',\n",
       " 'clusters',\n",
       " 'vision',\n",
       " 'institution',\n",
       " 'different',\n",
       " 'function']"
      ]
     },
     "execution_count": 8,
     "metadata": {},
     "output_type": "execute_result"
    }
   ],
   "source": [
    "centered_names"
   ]
  },
  {
   "cell_type": "markdown",
   "metadata": {},
   "source": [
    "Por otro lado, para obtener los 100 términos más repetidos en la colección, aplicamos el mismo procedimiento que en el paso anterior pero usando el *CountVectorizer*, que nos devuelve el número de veces que aparece cada término en cada documento, es decir, la frecuencia de ese término (TF) en cada documento.\n",
    "\n",
    "Una vez tenemos estas frecuencias, de igual manera que en el caso anterior, procedemos a sumar los arrays y ordenamos el resultado para obtener las 100 palabras más repetidas."
   ]
  },
  {
   "cell_type": "code",
   "execution_count": 9,
   "metadata": {},
   "outputs": [],
   "source": [
    "# para mostrar los 100 términos más repetidos usamos el CountVectorizer\n",
    "vectorizer_count = CountVectorizer(stop_words='english', min_df = 10/len(data_articles), token_pattern=r'(?u)\\b[A-Za-z][A-Za-z]+\\b')\n",
    "count_matrix = vectorizer_count.fit_transform(articles)\n",
    "\n",
    "# calculamos la suma del tf a lo largo de todos los artículos\n",
    "count_sum = np.sum(count_matrix.toarray(), axis = 0)\n",
    "\n",
    "# obtenemos las palabras devueltas por el vectorizer\n",
    "count_names = vectorizer_count.get_feature_names()\n",
    "repeated_names = [x for _,x in sorted(zip(count_sum,count_names), reverse = True)][:100]"
   ]
  },
  {
   "cell_type": "markdown",
   "metadata": {},
   "source": [
    "Las 100 palabras obtenidas son las siguientes:"
   ]
  },
  {
   "cell_type": "code",
   "execution_count": 10,
   "metadata": {
    "scrolled": true
   },
   "outputs": [
    {
     "data": {
      "text/plain": [
       "['data',\n",
       " 'image',\n",
       " 'la',\n",
       " 'databases',\n",
       " 'scale',\n",
       " 'nosql',\n",
       " 'algorithm',\n",
       " 'http',\n",
       " 'value',\n",
       " 'database',\n",
       " 'cluster',\n",
       " 'al',\n",
       " 'en',\n",
       " 'eduroam',\n",
       " 'space',\n",
       " 'using',\n",
       " 'number',\n",
       " 'clustering',\n",
       " 'used',\n",
       " 'set',\n",
       " 'vol',\n",
       " 'key',\n",
       " 'document',\n",
       " 'processing',\n",
       " 'based',\n",
       " 'mean',\n",
       " 'time',\n",
       " 'server',\n",
       " 'computer',\n",
       " 'radius',\n",
       " 'user',\n",
       " 'means',\n",
       " 'applications',\n",
       " 'new',\n",
       " 'complex',\n",
       " 'order',\n",
       " 'like',\n",
       " 'real',\n",
       " 'results',\n",
       " 'equations',\n",
       " 'www',\n",
       " 'case',\n",
       " 'access',\n",
       " 'point',\n",
       " 'relational',\n",
       " 'et',\n",
       " 'process',\n",
       " 'let',\n",
       " 'com',\n",
       " 'use',\n",
       " 'model',\n",
       " 'ieee',\n",
       " 'operations',\n",
       " 'local',\n",
       " 'information',\n",
       " 'images',\n",
       " 'structure',\n",
       " 'analysis',\n",
       " 'org',\n",
       " 'function',\n",
       " 'problem',\n",
       " 'linear',\n",
       " 'given',\n",
       " 'systems',\n",
       " 'documents',\n",
       " 'group',\n",
       " 'version',\n",
       " 'object',\n",
       " 'following',\n",
       " 'theorem',\n",
       " 'distributed',\n",
       " 'methods',\n",
       " 'clusters',\n",
       " 'vector',\n",
       " 'initial',\n",
       " 'values',\n",
       " 'network',\n",
       " 'store',\n",
       " 'query',\n",
       " 'objects',\n",
       " 'method',\n",
       " 'level',\n",
       " 'functions',\n",
       " 'column',\n",
       " 'client',\n",
       " 'performance',\n",
       " 'servers',\n",
       " 'paper',\n",
       " 'fig',\n",
       " 'example',\n",
       " 'solution',\n",
       " 'large',\n",
       " 'high',\n",
       " 'called',\n",
       " 'segmentation',\n",
       " 'distance',\n",
       " 'state',\n",
       " 'users',\n",
       " 'vision',\n",
       " 'does']"
      ]
     },
     "execution_count": 10,
     "metadata": {},
     "output_type": "execute_result"
    }
   ],
   "source": [
    "repeated_names"
   ]
  },
  {
   "cell_type": "markdown",
   "metadata": {},
   "source": [
    "# Gensim"
   ]
  },
  {
   "cell_type": "markdown",
   "metadata": {},
   "source": [
    "En esta sección vamos a desarrollar el primer apartado opcional de la práctica, correspondiente a la extracción y visualización de tópicos usando la librería Gensim. Para realizar este ejercicio hemos seguido las instrucciones dadas en https://www.machinelearningplus.com/nlp/topic-modeling-gensim-python/. "
   ]
  },
  {
   "cell_type": "markdown",
   "metadata": {},
   "source": [
    "Tras realizar la importación de todas las librerías necesarias al comienzo de este notebook, el primer paso que debemos realizar es obtener las *stopwords* que se van a aplicar de la librería *nltk*, y obtener una lista que contendrá los documentos que vamos a usar. Como anteriormente ya hemos creado la lista articles, que añade el abstract de los documentos que no tienen el texto disponible, y el título de los documentos que no tienen el abstract disponible, la podemos reutilizar."
   ]
  },
  {
   "cell_type": "code",
   "execution_count": 11,
   "metadata": {},
   "outputs": [],
   "source": [
    "stop_words = stopwords.words('english')\n",
    "stop_words.extend(['from', 'subject', 're', 'edu', 'use'])\n",
    "data = articles"
   ]
  },
  {
   "cell_type": "markdown",
   "metadata": {},
   "source": [
    "Una vez obtenida la lista con la que vamos a aplicar gensim, ejecutamos la función *sent_to_words* sobre ella con dos motivos:\n",
    "1. Filtrar la lista eliminando caracteres que pueden distraer al algoritmo, como son emails, caracteres de nueva línea y comillas simples.\n",
    "2. Dividir cada elemento de la lista (cada artículo) en una lista de palabras, eliminando símbolos de puntuación con el parámetro deacc=True.\n",
    "\n",
    "A continuación se construyen los modelos *bigram* y *trigram* que nos permiten extraer pares y tríos de palabras que aparecen frecuentemente juntas. Para ello, se utiliza la clase *Phrase*, que se puede observar en más detalle en https://radimrehurek.com/gensim/models/phrases.html#gensim.models.phrases.Phrases, y que detecta frases basadas en el *count* de la colocación de las palabras. El parámetro *min_count* que se le pasa a *Phrase* indica que como mínimo ese frase debe aparecer 5 veces en el texto, mientras que el parámetro *threshold* representa un umbral para escoger las frases que tengan una puntuación mayor de ese valor. Por defecto el sistema de puntuación que se elige se calcula de la sigueinte manera, obtenido de https://radimrehurek.com/gensim/models/phrases.html#gensim.models.phrases.original_scorer:\n",
    "\n",
    "$$ \\frac{(bigram\\_count - min\\_count)*len\\_vocab}{worda\\_count*wordb\\_count},$$\n",
    "\n",
    "siendo *bigram_count* el número de veces que un par *worda_wordb* aparece en la colección.\n",
    "\n",
    "Por último, pasamos la salida obtenida aplicando *Phrases* a la función *Phraser*, que permite reducir el consumo de memoria de *Phrases*."
   ]
  },
  {
   "cell_type": "code",
   "execution_count": 12,
   "metadata": {},
   "outputs": [],
   "source": [
    "def sent_to_words(data):\n",
    "    for sent in data:\n",
    "        sent = re.sub(r'\\S*@\\S*\\s?', '', sent)  # eliminamos emails\n",
    "        sent = re.sub(r'\\s+', ' ', sent)  # eliminamos caracteres de nueva línea\n",
    "        sent = re.sub(\"\\'\", \"\", sent)  # eliminamos comillas simples\n",
    "        sent = gensim.utils.simple_preprocess(str(sent), deacc=True) \n",
    "        yield(sent)  \n",
    "\n",
    "data_words = list(sent_to_words(data))\n",
    "\n",
    "# construimos los modelos bigram y trigram\n",
    "bigram = gensim.models.Phrases(data_words, min_count=5, threshold=100)\n",
    "trigram = gensim.models.Phrases(bigram[data_words], threshold=100)  \n",
    "\n",
    "bigram_mod = gensim.models.phrases.Phraser(bigram)\n",
    "trigram_mod = gensim.models.phrases.Phraser(trigram)\n"
   ]
  },
  {
   "cell_type": "markdown",
   "metadata": {},
   "source": [
    "Una vez tenemos los modelos *bigram* y *trigram*, creamos a continuación funciones para aplicarlos. Además, creamos una función para eliminar las *stopwords*, y para aplicar *lemmatization*, el cual es un proceso que consiste en transformar cada palabra a su forma raíz, quedándonos únicamente con nombres, adjetivos, verbos y adverbios."
   ]
  },
  {
   "cell_type": "code",
   "execution_count": 13,
   "metadata": {},
   "outputs": [],
   "source": [
    "#funciones para stopwords, bigrams, trigrams y lemmatization\n",
    "def remove_stopwords(texts):\n",
    "    return [[word for word in simple_preprocess(str(doc)) if word not in stop_words] for doc in texts]\n",
    "\n",
    "def make_bigrams(texts):\n",
    "    return [bigram_mod[doc] for doc in texts]\n",
    "\n",
    "def make_trigrams(texts):\n",
    "    return [trigram_mod[bigram_mod[doc]] for doc in texts]\n",
    "\n",
    "def lemmatization(texts, allowed_postags=['NOUN', 'ADJ', 'VERB', 'ADV']):\n",
    "    \"\"\"https://spacy.io/api/annotation\"\"\"\n",
    "    texts_out = []\n",
    "    for sent in texts:\n",
    "        doc = nlp(\" \".join(sent)) \n",
    "        texts_out.append([token.lemma_ for token in doc if token.pos_ in allowed_postags])\n",
    "    return texts_out"
   ]
  },
  {
   "cell_type": "markdown",
   "metadata": {},
   "source": [
    "Definidas las funciones anteriores, las aplicamos a nuestras palabras extraídas de los artículos. Para aplicar la *lemmatization* usamos la librería *spacy*, el cual es un motor NLP que contiene modelos pre construidos que pueden *parsear* texto y computar varias características de NLP utilizando una sola llamada a una función. Con esta librería podemos extraer por tanto la forma raíz de las palabras."
   ]
  },
  {
   "cell_type": "code",
   "execution_count": 14,
   "metadata": {},
   "outputs": [],
   "source": [
    "# eliminamos stopwords\n",
    "data_words_nostops = remove_stopwords(data_words)\n",
    "\n",
    "# creamos los bigrams\n",
    "data_words_bigrams = make_bigrams(data_words_nostops)\n",
    "\n",
    "# creamos los trigrams\n",
    "data_words_trigrams = make_trigrams(data_words_bigrams)\n",
    "\n",
    "# inicializamos el modelo inglés ('en') de spacy\n",
    "# para descargar: python3 -m spacy download en\n",
    "nlp = spacy.load('en', disable=['parser', 'ner'])\n",
    "\n",
    "# aplicamos lemmatization\n",
    "data_lemmatized = lemmatization(data_words_trigrams, allowed_postags=['NOUN', 'ADJ', 'VERB', 'ADV'])"
   ]
  },
  {
   "cell_type": "markdown",
   "metadata": {},
   "source": [
    "El paso más importante a la hora de aplicar Gensim para extraer los tópicos de nuestra colección de artículos consiste en aplicar el algoritmo LDA (Latent Dirichlet Allocation), el cual representa los documentos como mezclas de tópicos en los que aparecen palabras con ciertas probabilidades. El proceso de entrenamiento de LDA se puede resumir como sigue:\n",
    "\n",
    "1. Se fija el número de tópicos $K$ que se quiere generar, y de manera aleatoria se le asigna a cada palabra de cada documento un tópico aleatorio.\n",
    "2. Para cada documento d <br>\n",
    "   2.1 Para cada palabra w en d, se calculan dos probabilidades: P( tópico t | d) = la proporción de palabras en el documento d asignadas al tópico t, y P( w | t) = la proporción de asignaciones al tópico t a lo largo de todos los documentos que vienen de esta palabra w. Una vez calculadas, asignamos a la palabra w un nuevo tópico, el que cumpla que el producto $P(t|d) * P(w|t)$ sea mayor.\n",
    "3. Una vez repetido el proceso un número considerable de veces, se llegará a un estado en el que las asignaciones serán buenas. \n",
    "4. Por último, se utilizan estas asignaciones para estimar las mezclas de tópicos de cada documento (mediante el conteo de la proporción de palabras asignadas a cada tópico en ese documento) y las palabras asociadas a cada tópico (contando la proporción de palabras asignadas a cada tópico en total).\n",
    "\n",
    "Este proceso hace que se obtenga el número de tópicos $K$ relacionados que esperábamos. Esta información ha sido obtenida de http://blog.echen.me/2011/08/22/introduction-to-latent-dirichlet-allocation/.\n",
    "\n",
    "Antes de generar el modelo LDA, necesitamos obtener los dos parámetros de entrada principales del algoritmo: el diccionario y el corpus. El primero de ellos simplemente consiste en transformar los documentos a una representación de diccionario, mientras que el segundo consiste en una transformación de los documentos a una forma vectorizada, computando la frecuencia de cada palabra, incluyendo los bigrams y trigrams.\n",
    "\n",
    "A continuación obtenemos esos parámetros y mostramos un ejemplo con la frecuencia de cada término para el primero de los documentos, donde podemos ver, al haber pocas palabras, que a ese documento no pudimos extraerle el texto y se ha procesado su abstract. De hecho, comprobando ese artículo en el fichero pubs.json, se ha observado que el abstract no contiene la palabra eduroam, sino que está contenida en el título, y por eso esta palabra no aparece en las frecuencias que hemos mostrado."
   ]
  },
  {
   "cell_type": "code",
   "execution_count": 15,
   "metadata": {},
   "outputs": [
    {
     "data": {
      "text/plain": [
       "[[('coefficient', 1),\n",
       "  ('constant', 1),\n",
       "  ('correspond', 1),\n",
       "  ('dimensional', 1),\n",
       "  ('first', 1),\n",
       "  ('follow', 1),\n",
       "  ('generalize', 1),\n",
       "  ('group', 1),\n",
       "  ('irreducible', 1),\n",
       "  ('natural', 1),\n",
       "  ('order', 1),\n",
       "  ('paper', 1),\n",
       "  ('partial_differential_equation', 1),\n",
       "  ('purpose', 1),\n",
       "  ('representation', 1),\n",
       "  ('rotation', 1),\n",
       "  ('show', 1),\n",
       "  ('system', 1),\n",
       "  ('way', 1)]]"
      ]
     },
     "execution_count": 15,
     "metadata": {},
     "output_type": "execute_result"
    }
   ],
   "source": [
    "# creamos el diccionario\n",
    "id2word = corpora.Dictionary(data_lemmatized)\n",
    "\n",
    "# creamos el corpus con la frecuencia de cada término en los documentos\n",
    "texts = data_lemmatized\n",
    "corpus = [id2word.doc2bow(text) for text in texts]\n",
    "\n",
    "\n",
    "# ejemplo en el que mostramos, la frecuencia de cada término para un determinado documento\n",
    "[[(id2word[id], freq) for id, freq in cp] for cp in corpus[:1]]"
   ]
  },
  {
   "cell_type": "markdown",
   "metadata": {},
   "source": [
    "Una vez obtenidos los parámetros creamos el modelo LDA mencionado anteriormente. Si imprimimos los tópicos que devuelve el modelo, podemos observar cómo cada uno de ellos se ha obtenido como una combinación lineal de varias palabras."
   ]
  },
  {
   "cell_type": "code",
   "execution_count": 16,
   "metadata": {},
   "outputs": [
    {
     "name": "stdout",
     "output_type": "stream",
     "text": [
      "[(0,\n",
      "  '0.028*\"image\" + 0.009*\"pyramid\" + 0.006*\"processing\" + 0.004*\"level\" + '\n",
      "  '0.004*\"digital\" + 0.004*\"scale\" + 0.003*\"fig\" + 0.003*\"process\" + '\n",
      "  '0.003*\"may\" + 0.003*\"device\"'),\n",
      " (1,\n",
      "  '0.016*\"datum\" + 0.015*\"database\" + 0.010*\"document\" + 0.010*\"node\" + '\n",
      "  '0.009*\"nosql\" + 0.008*\"store\" + 0.007*\"use\" + 0.007*\"system\" + '\n",
      "  '0.006*\"operation\" + 0.005*\"application\"'),\n",
      " (2,\n",
      "  '0.035*\"cluster\" + 0.033*\"cid\" + 0.023*\"algorithm\" + 0.020*\"datum\" + '\n",
      "  '0.020*\"mean\" + 0.011*\"use\" + 0.008*\"point\" + 0.008*\"image\" + 0.008*\"method\" '\n",
      "  '+ 0.008*\"value\"'),\n",
      " (3,\n",
      "  '0.018*\"user\" + 0.015*\"eduroam\" + 0.011*\"radius\" + 0.007*\"server\" + '\n",
      "  '0.007*\"access\" + 0.005*\"network\" + 0.005*\"use\" + 0.005*\"attribute\" + '\n",
      "  '0.005*\"institution\" + 0.005*\"service\"'),\n",
      " (4,\n",
      "  '0.018*\"cid\" + 0.010*\"image\" + 0.004*\"equation\" + 0.004*\"give\" + '\n",
      "  '0.004*\"function\" + 0.003*\"la\" + 0.003*\"para\" + 0.003*\"see\" + '\n",
      "  '0.003*\"scale_space\" + 0.003*\"structure\"')]\n"
     ]
    }
   ],
   "source": [
    "# construimos el modelo LDA\n",
    "lda_model = gensim.models.ldamodel.LdaModel(corpus=corpus,\n",
    "                                           id2word=id2word,\n",
    "                                           num_topics=5, \n",
    "                                           random_state=100,\n",
    "                                           update_every=1,\n",
    "                                           chunksize=100,\n",
    "                                           passes=10,\n",
    "                                           alpha='auto',\n",
    "                                           per_word_topics=True)\n",
    "\n",
    "\n",
    "# imprimimos los 5 tópicos devueltos por el modelo LDA\n",
    "pprint(lda_model.print_topics())"
   ]
  },
  {
   "cell_type": "markdown",
   "metadata": {},
   "source": [
    "Para ver cómo de bueno es nuestro modelo, calculamos las medidas de perplejidad y de puntuación de coherencia. La primera de ellas se basa en el método probabilístico de medir la log-verosimilitud (logaritmo de la función de verosimilitud de una muestra aleatoria simple) de un conjunto de datos reservado para test. Por otro lado, el *coherence score* de un tópico se calcula como la media de las distancias entre las palabras.\n",
    "\n",
    "A continuación mostramos las medidas de perplejidad y coherencia en nuestro caso:"
   ]
  },
  {
   "cell_type": "code",
   "execution_count": 17,
   "metadata": {},
   "outputs": [
    {
     "name": "stdout",
     "output_type": "stream",
     "text": [
      "\n",
      "Perplejidad:  -7.922907082785187\n",
      "\n",
      "Coherence Score:  0.5361713723377118\n"
     ]
    }
   ],
   "source": [
    "# computamos perplejidad\n",
    "print('\\nPerplejidad: ', lda_model.log_perplexity(corpus))\n",
    "\n",
    "# computamos coherence Score\n",
    "coherence_model_lda = CoherenceModel(model=lda_model, texts=data_lemmatized, dictionary=id2word, coherence='c_v')\n",
    "coherence_lda = coherence_model_lda.get_coherence()\n",
    "print('\\nCoherence Score: ', coherence_lda)"
   ]
  },
  {
   "cell_type": "markdown",
   "metadata": {},
   "source": [
    "Para visualizar los resultados obtenidos del modelo LDA anterior, utilizamos la librería pyLDAvis, que nos permite obtener un gráfico interactivo diseñado para que funcione bien con jupyter notebooks. \n",
    "\n",
    "Como se puede observar, el algoritmo ha conseguido separar bien los 5 tópicos, con excepción de los grupos 1 y 5 en los que hay palabras en común, quizás porque el procesamiento de imágenes (más presente en el grupo 5) tiene una componente matemática que se ha podido ligar a las principales palabras de las ecuaciones de Cauchy-Riemann (más presentes en el grupo 1). En general, en todos los grupos la gran mayoría de palabras se corresponden con un único tópico de los 5 que hemos introducido en la búsqueda de artículos al comienzo de la práctica."
   ]
  },
  {
   "cell_type": "code",
   "execution_count": 18,
   "metadata": {},
   "outputs": [
    {
     "name": "stderr",
     "output_type": "stream",
     "text": [
      "/home/rafa/anaconda3/envs/new_environment/lib/python3.6/site-packages/pyLDAvis/_prepare.py:257: FutureWarning: Sorting because non-concatenation axis is not aligned. A future version\n",
      "of pandas will change to not sort by default.\n",
      "\n",
      "To accept the future behavior, pass 'sort=False'.\n",
      "\n",
      "To retain the current behavior and silence the warning, pass 'sort=True'.\n",
      "\n",
      "  return pd.concat([default_term_info] + list(topic_dfs))\n"
     ]
    },
    {
     "data": {
      "text/html": [
       "\n",
       "<link rel=\"stylesheet\" type=\"text/css\" href=\"https://cdn.rawgit.com/bmabey/pyLDAvis/files/ldavis.v1.0.0.css\">\n",
       "\n",
       "\n",
       "<div id=\"ldavis_el570114037206818160077397465\"></div>\n",
       "<script type=\"text/javascript\">\n",
       "\n",
       "var ldavis_el570114037206818160077397465_data = {\"mdsDat\": {\"x\": [0.14759113131292725, -0.20120739329733717, -0.09370578786891356, 0.05277290805401881, 0.09454914179930482], \"y\": [0.0254936974403887, -0.102645353050736, 0.19150955294389352, -0.10394299908332026, -0.010414898250225894], \"topics\": [1, 2, 3, 4, 5], \"cluster\": [1, 1, 1, 1, 1], \"Freq\": [37.78290557861328, 35.19171905517578, 14.819377899169922, 9.025909423828125, 3.1800899505615234]}, \"tinfo\": {\"Category\": [\"Default\", \"Default\", \"Default\", \"Default\", \"Default\", \"Default\", \"Default\", \"Default\", \"Default\", \"Default\", \"Default\", \"Default\", \"Default\", \"Default\", \"Default\", \"Default\", \"Default\", \"Default\", \"Default\", \"Default\", \"Default\", \"Default\", \"Default\", \"Default\", \"Default\", \"Default\", \"Default\", \"Default\", \"Default\", \"Default\", \"Topic1\", \"Topic1\", \"Topic1\", \"Topic1\", \"Topic1\", \"Topic1\", \"Topic1\", \"Topic1\", \"Topic1\", \"Topic1\", \"Topic1\", \"Topic1\", \"Topic1\", \"Topic1\", \"Topic1\", \"Topic1\", \"Topic1\", \"Topic1\", \"Topic1\", \"Topic1\", \"Topic1\", \"Topic1\", \"Topic1\", \"Topic1\", \"Topic1\", \"Topic1\", \"Topic1\", \"Topic1\", \"Topic1\", \"Topic1\", \"Topic1\", \"Topic1\", \"Topic1\", \"Topic1\", \"Topic1\", \"Topic1\", \"Topic1\", \"Topic1\", \"Topic1\", \"Topic1\", \"Topic1\", \"Topic1\", \"Topic1\", \"Topic1\", \"Topic1\", \"Topic1\", \"Topic1\", \"Topic1\", \"Topic1\", \"Topic1\", \"Topic1\", \"Topic1\", \"Topic1\", \"Topic1\", \"Topic1\", \"Topic1\", \"Topic1\", \"Topic1\", \"Topic1\", \"Topic1\", \"Topic1\", \"Topic1\", \"Topic1\", \"Topic1\", \"Topic1\", \"Topic1\", \"Topic1\", \"Topic1\", \"Topic1\", \"Topic1\", \"Topic1\", \"Topic2\", \"Topic2\", \"Topic2\", \"Topic2\", \"Topic2\", \"Topic2\", \"Topic2\", \"Topic2\", \"Topic2\", \"Topic2\", \"Topic2\", \"Topic2\", \"Topic2\", \"Topic2\", \"Topic2\", \"Topic2\", \"Topic2\", \"Topic2\", \"Topic2\", \"Topic2\", \"Topic2\", \"Topic2\", \"Topic2\", \"Topic2\", \"Topic2\", \"Topic2\", \"Topic2\", \"Topic2\", \"Topic2\", \"Topic2\", \"Topic2\", \"Topic2\", \"Topic2\", \"Topic2\", \"Topic2\", \"Topic2\", \"Topic2\", \"Topic2\", \"Topic2\", \"Topic2\", \"Topic2\", \"Topic2\", \"Topic2\", \"Topic2\", \"Topic2\", \"Topic2\", \"Topic2\", \"Topic2\", \"Topic2\", \"Topic2\", \"Topic2\", \"Topic2\", \"Topic2\", \"Topic2\", \"Topic2\", \"Topic2\", \"Topic2\", \"Topic2\", \"Topic2\", \"Topic3\", \"Topic3\", \"Topic3\", \"Topic3\", \"Topic3\", \"Topic3\", \"Topic3\", \"Topic3\", \"Topic3\", \"Topic3\", \"Topic3\", \"Topic3\", \"Topic3\", \"Topic3\", \"Topic3\", \"Topic3\", \"Topic3\", \"Topic3\", \"Topic3\", \"Topic3\", \"Topic3\", \"Topic3\", \"Topic3\", \"Topic3\", \"Topic3\", \"Topic3\", \"Topic3\", \"Topic3\", \"Topic3\", \"Topic3\", \"Topic3\", \"Topic3\", \"Topic3\", \"Topic3\", \"Topic3\", \"Topic3\", \"Topic3\", \"Topic3\", \"Topic3\", \"Topic3\", \"Topic3\", \"Topic3\", \"Topic3\", \"Topic3\", \"Topic3\", \"Topic3\", \"Topic3\", \"Topic3\", \"Topic3\", \"Topic3\", \"Topic3\", \"Topic3\", \"Topic3\", \"Topic3\", \"Topic3\", \"Topic3\", \"Topic3\", \"Topic3\", \"Topic3\", \"Topic3\", \"Topic3\", \"Topic3\", \"Topic3\", \"Topic3\", \"Topic3\", \"Topic3\", \"Topic3\", \"Topic3\", \"Topic4\", \"Topic4\", \"Topic4\", \"Topic4\", \"Topic4\", \"Topic4\", \"Topic4\", \"Topic4\", \"Topic4\", \"Topic4\", \"Topic4\", \"Topic4\", \"Topic4\", \"Topic4\", \"Topic4\", \"Topic4\", \"Topic4\", \"Topic4\", \"Topic4\", \"Topic4\", \"Topic4\", \"Topic4\", \"Topic4\", \"Topic4\", \"Topic4\", \"Topic4\", \"Topic4\", \"Topic4\", \"Topic4\", \"Topic4\", \"Topic4\", \"Topic4\", \"Topic4\", \"Topic4\", \"Topic4\", \"Topic4\", \"Topic4\", \"Topic4\", \"Topic4\", \"Topic4\", \"Topic4\", \"Topic4\", \"Topic4\", \"Topic4\", \"Topic4\", \"Topic4\", \"Topic4\", \"Topic4\", \"Topic4\", \"Topic4\", \"Topic4\", \"Topic4\", \"Topic4\", \"Topic4\", \"Topic4\", \"Topic4\", \"Topic4\", \"Topic4\", \"Topic4\", \"Topic4\", \"Topic4\", \"Topic4\", \"Topic4\", \"Topic4\", \"Topic4\", \"Topic4\", \"Topic4\", \"Topic4\", \"Topic4\", \"Topic4\", \"Topic5\", \"Topic5\", \"Topic5\", \"Topic5\", \"Topic5\", \"Topic5\", \"Topic5\", \"Topic5\", \"Topic5\", \"Topic5\", \"Topic5\", \"Topic5\", \"Topic5\", \"Topic5\", \"Topic5\", \"Topic5\", \"Topic5\", \"Topic5\", \"Topic5\", \"Topic5\", \"Topic5\", \"Topic5\", \"Topic5\", \"Topic5\", \"Topic5\", \"Topic5\", \"Topic5\", \"Topic5\", \"Topic5\", \"Topic5\", \"Topic5\", \"Topic5\", \"Topic5\", \"Topic5\", \"Topic5\", \"Topic5\", \"Topic5\", \"Topic5\", \"Topic5\", \"Topic5\", \"Topic5\", \"Topic5\", \"Topic5\", \"Topic5\", \"Topic5\", \"Topic5\", \"Topic5\", \"Topic5\", \"Topic5\", \"Topic5\", \"Topic5\", \"Topic5\", \"Topic5\", \"Topic5\", \"Topic5\", \"Topic5\", \"Topic5\", \"Topic5\", \"Topic5\", \"Topic5\", \"Topic5\", \"Topic5\", \"Topic5\", \"Topic5\", \"Topic5\", \"Topic5\", \"Topic5\", \"Topic5\"], \"Freq\": [1466.0, 762.0, 746.0, 1116.0, 437.0, 436.0, 308.0, 709.0, 252.0, 442.0, 415.0, 165.0, 289.0, 491.0, 692.0, 346.0, 149.0, 289.0, 293.0, 330.0, 181.0, 166.0, 390.0, 124.0, 328.0, 312.0, 203.0, 171.0, 153.0, 138.0, 161.25770568847656, 154.828369140625, 146.60597229003906, 118.27261352539062, 85.30956268310547, 78.94580078125, 78.02078247070312, 63.39876937866211, 63.36661911010742, 55.16721725463867, 54.25297546386719, 52.41808319091797, 51.50958251953125, 51.50921630859375, 48.75776672363281, 47.850555419921875, 47.85018539428711, 46.918426513671875, 46.02157211303711, 164.00042724609375, 44.18781661987305, 44.17109680175781, 42.363765716552734, 42.35776138305664, 42.35749435424805, 38.704654693603516, 36.87065124511719, 35.960906982421875, 35.96087646484375, 35.956539154052734, 82.57994842529297, 186.0167236328125, 61.675506591796875, 42.11117935180664, 46.93577194213867, 115.47124481201172, 74.23753356933594, 85.1730728149414, 55.95280075073242, 125.92822265625, 80.84053039550781, 133.28421020507812, 498.3970947265625, 842.644775390625, 70.6456527709961, 135.0290069580078, 64.7912368774414, 67.52269744873047, 76.1694564819336, 118.5377197265625, 171.157958984375, 174.1797637939453, 75.09378051757812, 157.59385681152344, 116.25817108154297, 148.52828979492188, 119.8646011352539, 98.53382873535156, 104.78596496582031, 90.64474487304688, 123.8143310546875, 120.60587310791016, 116.81734466552734, 135.8986053466797, 123.0599594116211, 123.55733489990234, 136.91477966308594, 128.77760314941406, 111.77854919433594, 116.68763732910156, 111.56642150878906, 414.53680419921875, 202.91616821289062, 152.9484405517578, 134.34315490722656, 123.55537414550781, 105.91968536376953, 104.94022369384766, 86.3242416381836, 99.34453582763672, 82.40534973144531, 78.48579406738281, 77.50641632080078, 77.50596618652344, 78.81527709960938, 73.58699798583984, 110.82492065429688, 69.66793060302734, 68.68812561035156, 68.68376159667969, 56.93126678466797, 56.93119812011719, 112.78152465820312, 53.011966705322266, 51.05255889892578, 50.073036193847656, 50.0730094909668, 50.07269287109375, 50.39292526245117, 48.11362075805664, 47.50770950317383, 432.5220642089844, 203.35337829589844, 111.79350280761719, 94.16617584228516, 332.5822448730469, 665.1444702148438, 212.25164794921875, 184.09397888183594, 187.2815399169922, 269.9952087402344, 447.8199768066406, 192.26055908203125, 209.00332641601562, 147.46319580078125, 138.5507049560547, 725.6383056640625, 139.3227081298828, 141.2324981689453, 145.52587890625, 189.8994903564453, 290.85064697265625, 230.92385864257812, 196.76284790039062, 324.94964599609375, 185.73538208007812, 138.3270263671875, 200.46238708496094, 173.14381408691406, 153.49952697753906, 86.17005157470703, 44.80683898925781, 30.67400550842285, 26.67621421813965, 25.503150939941406, 24.697763442993164, 24.696853637695312, 23.52783203125, 21.187177658081055, 420.26434326171875, 19.248998641967773, 19.501583099365234, 19.014429092407227, 20.636072158813477, 17.677532196044922, 61.53922653198242, 54.5565071105957, 16.507673263549805, 35.70676040649414, 15.338273048400879, 14.573184967041016, 14.168319702148438, 14.167743682861328, 30.616512298583984, 12.998393058776855, 12.99838638305664, 12.99791145324707, 13.027093887329102, 13.029970169067383, 11.870903015136719, 115.39395141601562, 69.78691101074219, 652.5222778320312, 68.140869140625, 32.12514877319336, 370.9866638183594, 92.33206939697266, 24.37376594543457, 90.37737274169922, 43.77783966064453, 29.85832405090332, 38.01752853393555, 46.5235481262207, 38.71376037597656, 622.9844970703125, 78.98356628417969, 150.32363891601562, 156.83203125, 378.0301818847656, 64.91511535644531, 69.30339050292969, 141.8519287109375, 64.21739196777344, 147.48622131347656, 201.17428588867188, 139.864990234375, 65.20108032226562, 79.81781005859375, 108.00791931152344, 77.93193817138672, 110.8570556640625, 75.58621978759766, 150.9081573486328, 99.37894439697266, 84.04389953613281, 65.80155181884766, 66.64749908447266, 65.37068939208984, 56.37382888793945, 44.52571487426758, 43.822792053222656, 20.589481353759766, 18.50990104675293, 17.806419372558594, 17.787696838378906, 12.851988792419434, 12.177474975585938, 11.449662208557129, 28.048816680908203, 10.774471282958984, 9.368953704833984, 9.36888599395752, 8.66576862335205, 8.660099029541016, 7.962673664093018, 7.962639808654785, 7.962610244750977, 7.259470462799072, 7.259420394897461, 20.752580642700195, 11.468579292297363, 6.556338310241699, 6.5545125007629395, 6.551932334899902, 6.5423264503479, 6.541724681854248, 14.916352272033691, 14.214941024780273, 36.47425079345703, 22.27361488342285, 13.556957244873047, 16.399349212646484, 128.5624237060547, 170.06105041503906, 11.447773933410645, 201.6461639404297, 40.821842193603516, 15.048012733459473, 22.686994552612305, 18.894678115844727, 48.06023406982422, 24.257801055908203, 31.657377243041992, 33.84239959716797, 74.72850036621094, 22.986772537231445, 21.300273895263672, 62.04288101196289, 18.996225357055664, 53.48959732055664, 27.046077728271484, 76.60798645019531, 56.43281936645508, 47.87660598754883, 40.69055938720703, 33.48345184326172, 27.143980026245117, 60.92598342895508, 37.16091537475586, 46.23876953125, 30.411344528198242, 26.477540969848633, 28.3010311126709, 28.566904067993164, 29.812368392944336, 30.978361129760742, 31.2895450592041, 28.2996826171875, 6.386999607086182, 5.941291809082031, 5.941135406494141, 5.495320796966553, 5.04922342300415, 4.596241474151611, 4.157909393310547, 4.157597064971924, 3.7119438648223877, 3.7117929458618164, 3.7117857933044434, 2.8201754093170166, 2.813481092453003, 2.8132717609405518, 2.812507152557373, 2.374262809753418, 2.3742151260375977, 2.374180555343628, 35.367942810058594, 4.60362434387207, 4.4394049644470215, 1.9283463954925537, 1.9282532930374146, 1.92160165309906, 1.8501780033111572, 3.265887498855591, 1.4825670719146729, 1.4824711084365845, 1.482423186302185, 1.482392430305481, 6.832491397857666, 2.819891929626465, 3.710983991622925, 7.688847064971924, 17.154142379760742, 111.41706085205078, 5.406966209411621, 10.283405303955078, 11.111303329467773, 24.395627975463867, 9.555402755737305, 17.5980224609375, 7.640597820281982, 5.378384113311768, 6.2822418212890625, 17.12876319885254, 6.126546859741211, 13.139105796813965, 10.46707534790039, 9.688552856445312, 10.555387496948242, 12.405853271484375, 11.138794898986816, 7.512129306793213, 6.216935634613037, 6.425817489624023, 8.203993797302246, 7.823520660400391, 9.89667797088623, 7.408044815063477, 7.821972846984863, 7.393059730529785, 8.013567924499512, 7.712570667266846, 6.796133995056152, 6.598385334014893, 6.7341485023498535, 6.661714553833008], \"Term\": [\"cid\", \"image\", \"cluster\", \"datum\", \"algorithm\", \"mean\", \"user\", \"database\", \"eduroam\", \"node\", \"nosql\", \"radius\", \"server\", \"document\", \"use\", \"store\", \"processing\", \"operation\", \"method\", \"point\", \"scale\", \"access\", \"value\", \"distance\", \"number\", \"object\", \"mongodb\", \"attribute\", \"service\", \"manifold\", \"para\", \"scale_space\", \"di\\ufb00usion\", \"usuario\", \"\\u0631\\u062f\", \"por\", \"invariance\", \"como\", \"\\ufe9f\\u0627\\ufeae\\ufee3\", \"sip\", \"servicio\", \"curvature\", \"autenticaci\", \"que\", \"semidiscrete\", \"acceso\", \"servidor_radius\", \"\\ufeb3\\u0631\\ufe8e\\ufed3\", \"este\", \"la\", \"anisotropic_di\\ufb00usion\", \"\\u06cc\\u0627\\ufeae\\ufe91\", \"origen\", \"pde\", \"regularization\", \"esta\", \"nonlinear_di\\ufb00usion\", \"entre\", \"servidor\", \"scale_space_propertie\", \"invariant\", \"equation\", \"una\", \"bundle\", \"los\", \"\\ufb01lter\", \"nonlinear\", \"continuous\", \"smoothing\", \"theorem\", \"smooth\", \"let\", \"image\", \"cid\", \"eap\", \"linear\", \"curve\", \"math\", \"edge\", \"complex\", \"function\", \"give\", \"con\", \"see\", \"vol\", \"structure\", \"solution\", \"real\", \"local\", \"property\", \"order\", \"problem\", \"case\", \"result\", \"follow\", \"process\", \"system\", \"also\", \"method\", \"set\", \"point\", \"nosql\", \"mongodb\", \"couchdb\", \"storage\", \"bigtable\", \"shard\", \"cassandra\", \"replication\", \"disk\", \"tablet_server\", \"datastore\", \"key_value_store\", \"vector_clock\", \"consistency\", \"replica\", \"transaction\", \"dynamo\", \"\\ufb01le\", \"scalability\", \"mapreduce\", \"sstable\", \"tablet\", \"project_voldemort\", \"cache\", \"amazon\", \"lock\", \"blog_post\", \"availability\", \"hbase\", \"schema\", \"node\", \"read\", \"relational\", \"sql\", \"store\", \"database\", \"client\", \"distribute\", \"query\", \"operation\", \"document\", \"update\", \"key\", \"cf\", \"index\", \"datum\", \"http\", \"com\", \"write\", \"provide\", \"system\", \"application\", \"server\", \"use\", \"object\", \"table\", \"also\", \"value\", \"model\", \"centroid\", \"mean_cluster\", \"initial_centroid\", \"prediction\", \"bone\", \"hierarchical_algorithm\", \"missing_value_imputation\", \"horizontal_band\", \"imputation\", \"algorithm\", \"correctness\", \"tumour\", \"training\", \"brain\", \"missing_value\", \"clustering\", \"iteration\", \"patient\", \"median\", \"radiograph\", \"homogeneity\", \"initial_centre\", \"bilinear_program\", \"accuracy\", \"skeletal\", \"kaur\", \"cardiovascular\", \"texture_analysis\", \"tumor\", \"euclidean_distance\", \"distance\", \"mining\", \"cluster\", \"calculate\", \"fuzzy\", \"mean\", \"center\", \"predict\", \"dataset\", \"input\", \"classification\", \"hierarchical\", \"international_journal\", \"miss\", \"cid\", \"different\", \"method\", \"point\", \"datum\", \"propose\", \"technique\", \"number\", \"step\", \"value\", \"use\", \"set\", \"segmentation\", \"group\", \"object\", \"attribute\", \"result\", \"analysis\", \"image\", \"base\", \"problem\", \"paper\", \"give\", \"time\", \"institution\", \"radsec\", \"cui\", \"guest\", \"deliverable_dj_radsec_standardisation\", \"eduroam_extensions_document\", \"packet\", \"home_institution\", \"mobility\", \"nas\", \"authorisation\", \"standardisation\", \"tls_radsec\", \"radsecproxy\", \"radiator\", \"jradius\", \"federation_proxy\", \"ipr\", \"gn_jra\", \"entry_chargeable\", \"code_gn_secur\", \"permis\", \"country\", \"mani\", \"initiative\", \"terena_task_force\", \"authority\", \"eduperson\", \"vpn\", \"federation\", \"credential\", \"sp\", \"privacy\", \"working_group\", \"radius\", \"eduroam\", \"realm\", \"user\", \"roam\", \"gn\", \"ietf\", \"repository\", \"authentication\", \"vlan\", \"infrastructure\", \"real_analytic\", \"access\", \"freeradius\", \"policy\", \"network\", \"deploy\", \"service\", \"definition\", \"server\", \"attribute\", \"manifold\", \"implementation\", \"standard\", \"internet\", \"use\", \"work\", \"also\", \"protocol\", \"current\", \"security\", \"define\", \"local\", \"provide\", \"base\", \"call\", \"mosaic\", \"laplacian_pyramid\", \"adelson\", \"bandpass\", \"rca\", \"rwth_aachen_university\", \"rca_laboratorie\", \"spatial_frequency\", \"target_pattern\", \"lowpass\", \"weighting_function\", \"lcl\", \"device_specific\", \"politze\", \"decker\", \"pyra\", \"anderson\", \"composite\", \"pyramid\", \"pyramid_level\", \"login\", \"tacnet\", \"bergen\", \"theft\", \"scientist\", \"burt\", \"classroom\", \"award\", \"ogden\", \"tern\", \"convolve\", \"zone\", \"multiresolution\", \"expand\", \"digital\", \"image\", \"human\", \"filter\", \"device\", \"processing\", \"sample\", \"level\", \"compression\", \"gl\", \"visual\", \"scale\", \"stage\", \"fig\", \"original\", \"pattern\", \"analysis\", \"process\", \"may\", \"representation\", \"learn\", \"student\", \"many\", \"reduce\", \"use\", \"university\", \"information\", \"obtain\", \"system\", \"node\", \"gaussian\", \"research\", \"value\", \"show\"], \"Total\": [1466.0, 762.0, 746.0, 1116.0, 437.0, 436.0, 308.0, 709.0, 252.0, 442.0, 415.0, 165.0, 289.0, 491.0, 692.0, 346.0, 149.0, 289.0, 293.0, 330.0, 181.0, 166.0, 390.0, 124.0, 328.0, 312.0, 203.0, 171.0, 153.0, 138.0, 161.88075256347656, 155.46316528320312, 147.2365264892578, 118.89425659179688, 85.94670867919922, 79.5661849975586, 78.64549255371094, 64.01829528808594, 64.00008392333984, 55.786624908447266, 54.87215805053711, 53.03989028930664, 52.128562927246094, 52.128318786621094, 49.380062103271484, 48.46975326538086, 48.46965789794922, 47.54514694213867, 46.64057540893555, 166.2313232421875, 44.808658599853516, 44.79930114746094, 42.982444763183594, 42.97895431518555, 42.97880935668945, 39.3236198425293, 37.491512298583984, 36.57978057861328, 36.57981872558594, 36.577232360839844, 84.1897964477539, 191.2282257080078, 62.914669036865234, 42.92349624633789, 48.000244140625, 122.96906280517578, 77.86371612548828, 90.3753433227539, 57.79615020751953, 142.77793884277344, 87.29972839355469, 153.9400634765625, 762.2638549804688, 1466.1759033203125, 77.64556121826172, 172.33998107910156, 70.3234634399414, 74.98876190185547, 91.23019409179688, 173.6128692626953, 312.0487060546875, 324.26708984375, 90.04058074951172, 292.203857421875, 180.52703857421875, 268.7410583496094, 192.5748748779297, 147.80238342285156, 170.28286743164062, 128.23773193359375, 256.1387023925781, 254.62899780273438, 237.2397003173828, 352.9315490722656, 274.9253234863281, 320.70965576171875, 488.4501647949219, 411.5370178222656, 293.3536376953125, 388.9692077636719, 330.6985168457031, 415.3977966308594, 203.74623107910156, 153.77182006835938, 135.21978759765625, 124.37553405761719, 106.73756408691406, 105.75725555419922, 87.14016723632812, 100.28936004638672, 83.22042083740234, 79.30162811279297, 78.3211441040039, 78.32186126708984, 79.6510238647461, 74.40219116210938, 112.08629608154297, 70.48265838623047, 69.50284576416016, 69.5029296875, 57.743770599365234, 57.74386978149414, 114.50981140136719, 53.824615478515625, 51.86469268798828, 50.884403228759766, 50.884429931640625, 50.88495635986328, 51.24078369140625, 48.92445373535156, 48.321224212646484, 442.1470031738281, 206.97666931152344, 113.78380584716797, 95.89015197753906, 346.03912353515625, 709.9778442382812, 223.4423370361328, 193.6162109375, 197.2080078125, 289.6182861328125, 491.1820068359375, 208.9484100341797, 236.6355743408203, 161.29100036621094, 154.1874237060547, 1116.092529296875, 163.7161407470703, 166.60415649414062, 175.66676330566406, 264.6368408203125, 488.4501647949219, 362.4215087890625, 289.53546142578125, 692.7418212890625, 312.292724609375, 173.3052215576172, 411.5370178222656, 390.5185241699219, 293.6275634765625, 86.9581527709961, 45.592411041259766, 31.458450317382812, 27.461997985839844, 26.292940139770508, 25.482009887695312, 25.482242584228516, 24.312070846557617, 21.972400665283203, 437.2440185546875, 20.03864288330078, 20.30642318725586, 19.800142288208008, 21.494890213012695, 18.46253776550293, 64.27783203125, 57.099552154541016, 17.292579650878906, 37.4781494140625, 16.12251091003418, 15.357461929321289, 14.952585220336914, 14.95269775390625, 32.39839553833008, 13.782630920410156, 13.782630920410156, 13.78275203704834, 13.829079627990723, 13.833051681518555, 12.655255317687988, 124.48049926757812, 75.34803009033203, 746.9638671875, 75.67472839355469, 34.873775482177734, 436.9929504394531, 115.49034118652344, 27.11733055114746, 114.91958618164062, 51.95521545410156, 34.0451774597168, 45.54014205932617, 58.222408294677734, 47.393211364746094, 1466.1759033203125, 114.82844543457031, 293.3536376953125, 330.6985168457031, 1116.092529296875, 99.9864273071289, 113.765869140625, 328.6619567871094, 104.37681579589844, 390.5185241699219, 692.7418212890625, 388.9692077636719, 119.92861938476562, 177.81277465820312, 312.292724609375, 171.4887237548828, 352.9315490722656, 166.1608428955078, 762.2638549804688, 309.0805969238281, 254.62899780273438, 169.47117614746094, 324.26708984375, 283.0403137207031, 57.122581481933594, 45.21488952636719, 44.511741638183594, 21.31125831604004, 19.197370529174805, 18.494068145751953, 18.485973358154297, 13.557708740234375, 12.866867065429688, 12.151012420654297, 29.793296813964844, 11.461976051330566, 10.05595588684082, 10.055965423583984, 9.352771759033203, 9.350115776062012, 8.6496000289917, 8.649581909179688, 8.649616241455078, 7.946386337280273, 7.946357727050781, 22.729873657226562, 12.56175422668457, 7.243335723876953, 7.242373466491699, 7.241147041320801, 7.236088275909424, 7.235692501068115, 16.6093692779541, 15.880453109741211, 41.94462203979492, 25.375141143798828, 15.240647315979004, 18.909353256225586, 165.34217834472656, 252.31983947753906, 13.056855201721191, 308.38128662109375, 58.191734313964844, 18.379396438598633, 29.981021881103516, 24.22280502319336, 77.6189193725586, 33.696746826171875, 48.45118713378906, 53.909393310546875, 166.56214904785156, 33.39285659790039, 30.216341018676758, 157.6891326904297, 25.54434585571289, 153.28277587890625, 47.946475982666016, 289.53546142578125, 171.4887237548828, 138.4630584716797, 104.04481506347656, 90.4482650756836, 59.75929641723633, 692.7418212890625, 159.28819274902344, 411.5370178222656, 95.28091430664062, 63.70429229736328, 89.95545196533203, 126.98604583740234, 170.28286743164062, 264.6368408203125, 309.0805969238281, 172.4202880859375, 7.1587347984313965, 6.71282958984375, 6.712787628173828, 6.266855716705322, 5.820844650268555, 5.374928951263428, 4.929014205932617, 4.928988456726074, 4.4830474853515625, 4.483025550842285, 4.483028411865234, 3.5911426544189453, 3.5914065837860107, 3.5913615226745605, 3.5911736488342285, 3.1451809406280518, 3.145174980163574, 3.1451809406280518, 48.02412414550781, 6.279345512390137, 6.127474784851074, 2.6992201805114746, 2.699205160140991, 2.699563980102539, 2.691145658493042, 4.941468238830566, 2.253235340118408, 2.2532458305358887, 2.253237724304199, 2.2532362937927246, 11.25505256652832, 4.564142227172852, 6.303571701049805, 15.117429733276367, 49.724945068359375, 762.2638549804688, 12.156829833984375, 31.636825561523438, 35.59236145019531, 149.5279083251953, 32.68230438232422, 104.76073455810547, 25.04965591430664, 13.290302276611328, 19.752368927001953, 181.6355438232422, 20.74320411682129, 125.81726837158203, 76.88192749023438, 87.03652954101562, 166.1608428955078, 320.70965576171875, 296.39666748046875, 64.56637573242188, 27.708009719848633, 34.930625915527344, 148.08175659179688, 131.76612854003906, 692.7418212890625, 107.2815170288086, 177.2526092529297, 114.58683776855469, 488.4501647949219, 442.1470031738281, 74.53605651855469, 82.78130340576172, 390.5185241699219, 179.5629119873047], \"loglift\": [30.0, 29.0, 28.0, 27.0, 26.0, 25.0, 24.0, 23.0, 22.0, 21.0, 20.0, 19.0, 18.0, 17.0, 16.0, 15.0, 14.0, 13.0, 12.0, 11.0, 10.0, 9.0, 8.0, 7.0, 6.0, 5.0, 4.0, 3.0, 2.0, 1.0, 0.9695000052452087, 0.9692000150680542, 0.968999981880188, 0.9681000113487244, 0.9659000039100647, 0.965499997138977, 0.9653000235557556, 0.9635999798774719, 0.9634000062942505, 0.9621000289916992, 0.9620000123977661, 0.9614999890327454, 0.9613999724388123, 0.9613999724388123, 0.9606000185012817, 0.9605000019073486, 0.9605000019073486, 0.9599999785423279, 0.9599999785423279, 0.9598000049591064, 0.9593999981880188, 0.9592000246047974, 0.9588000178337097, 0.9588000178337097, 0.9588000178337097, 0.9574000239372253, 0.95660001039505, 0.9563000202178955, 0.9562000036239624, 0.9562000036239624, 0.9539999961853027, 0.9456999897956848, 0.9534000158309937, 0.954200029373169, 0.9509000182151794, 0.9103999733924866, 0.925599992275238, 0.9139999747276306, 0.9409000277519226, 0.8476999998092651, 0.896399974822998, 0.829200029373169, 0.5483999848365784, 0.41940000653266907, 0.8787999749183655, 0.7293000221252441, 0.8913999795913696, 0.868399977684021, 0.792900025844574, 0.59170001745224, 0.3727000057697296, 0.35179999470710754, 0.7918000221252441, 0.35589998960494995, 0.5332000255584717, 0.38029998540878296, 0.4991999864578247, 0.567799985408783, 0.4878000020980835, 0.6263999938964844, 0.24639999866485596, 0.22599999606609344, 0.26489999890327454, 0.01889999955892563, 0.16949999332427979, 0.019500000402331352, -0.2985999882221222, -0.18850000202655792, 0.008500000461935997, -0.23070000112056732, -0.11330000311136246, 1.0422999858856201, 1.0403000116348267, 1.0390000343322754, 1.0378999710083008, 1.0377000570297241, 1.0367000102996826, 1.0365999937057495, 1.034999966621399, 1.0348999500274658, 1.034500002861023, 1.034000039100647, 1.0339000225067139, 1.0339000225067139, 1.0338000059127808, 1.0333000421524048, 1.0329999923706055, 1.0326999425888062, 1.0326000452041626, 1.0325000286102295, 1.0302000045776367, 1.0302000045776367, 1.0291999578475952, 1.029099941253662, 1.0285999774932861, 1.0283000469207764, 1.0283000469207764, 1.0283000469207764, 1.0276999473571777, 1.0276000499725342, 1.027400016784668, 1.0224000215530396, 1.0267000198364258, 1.0267000198364258, 1.0262000560760498, 1.004699945449829, 0.9790999889373779, 0.9929999709129333, 0.9939000010490417, 0.9926999807357788, 0.9742000102996826, 0.9519000053405762, 0.9610999822616577, 0.920199990272522, 0.9546999931335449, 0.9373999834060669, 0.6137999892234802, 0.8830000162124634, 0.8791000247001648, 0.8561000227928162, 0.7124999761581421, 0.5259000062942505, 0.5935999751091003, 0.6581000089645386, 0.2874000072479248, 0.5246999859809875, 0.8188999891281128, 0.32510000467300415, 0.23100000619888306, 0.39570000767707825, 1.9000999927520752, 1.8918999433517456, 1.8839999437332153, 1.8802000284194946, 1.8787000179290771, 1.878000020980835, 1.8779000043869019, 1.8763999938964844, 1.8727999925613403, 1.8696000576019287, 1.86899995803833, 1.8688000440597534, 1.8687000274658203, 1.868499994277954, 1.8658000230789185, 1.8657000064849854, 1.863700032234192, 1.8628000020980835, 1.86080002784729, 1.8594000339508057, 1.8567999601364136, 1.8553999662399292, 1.855299949645996, 1.8526999950408936, 1.8507000207901, 1.8507000207901, 1.850600004196167, 1.8494999408721924, 1.8494000434875488, 1.8452999591827393, 1.833400011062622, 1.8325999975204468, 1.7740999460220337, 1.8043999671936035, 1.8271000385284424, 1.7454999685287476, 1.6854000091552734, 1.8026000261306763, 1.6690000295639038, 1.7380000352859497, 1.777999997138977, 1.728700041770935, 1.6849000453948975, 1.7070000171661377, 1.0533000230789185, 1.534999966621399, 1.2405999898910522, 1.1632000207901, 0.8266000151634216, 1.4773000478744507, 1.413599967956543, 1.069000005722046, 1.4234999418258667, 0.9355000257492065, 0.6726999878883362, 0.8863999843597412, 1.2998000383377075, 1.108299970626831, 0.8475000262260437, 1.1205999851226807, 0.7512000203132629, 1.1216000318527222, 0.2896000146865845, 0.7746000289916992, 0.8008000254631042, 0.9631999731063843, 0.32710000872612, 0.44369998574256897, 2.391900062561035, 2.389699935913086, 2.3894999027252197, 2.3705999851226807, 2.3685998916625977, 2.3671998977661133, 2.3666000366210938, 2.351599931716919, 2.3499999046325684, 2.345599889755249, 2.3447000980377197, 2.3431999683380127, 2.3343000411987305, 2.3343000411987305, 2.3287999629974365, 2.328399896621704, 2.3222999572753906, 2.3222999572753906, 2.3222999572753906, 2.31469988822937, 2.31469988822937, 2.3141000270843506, 2.313999891281128, 2.3053998947143555, 2.305299997329712, 2.3050999641418457, 2.30430006980896, 2.3041999340057373, 2.297600030899048, 2.294300079345703, 2.2653000354766846, 2.2746999263763428, 2.2880001068115234, 2.262700080871582, 2.1535000801086426, 2.010499954223633, 2.2736001014709473, 1.9802000522613525, 2.05049991607666, 2.2051000595092773, 2.126300096511841, 2.1566998958587646, 1.9256999492645264, 2.0764000415802, 1.9795000553131104, 1.9394999742507935, 1.603600025177002, 2.031599998474121, 2.0553998947143555, 1.4723000526428223, 2.1089000701904297, 1.3523000478744507, 1.8324999809265137, 1.0755000114440918, 1.2935999631881714, 1.3430999517440796, 1.4661999940872192, 1.4112999439239502, 1.6159000396728516, -0.02590000070631504, 0.9495999813079834, 0.21899999678134918, 1.263100028038025, 1.5270999670028687, 1.2487000226974487, 0.9132000207901001, 0.6625000238418579, 0.25999999046325684, 0.11479999870061874, 0.5979999899864197, 3.334199905395508, 3.326200008392334, 3.3261001110076904, 3.3169000148773193, 3.305999994277954, 3.291800022125244, 3.27810001373291, 3.27810001373291, 3.259500026702881, 3.259500026702881, 3.259500026702881, 3.2065999507904053, 3.2040998935699463, 3.2040998935699463, 3.203900098800659, 3.167099952697754, 3.167099952697754, 3.1670000553131104, 3.142400026321411, 3.1377999782562256, 3.125999927520752, 3.111999988555908, 3.1119000911712646, 3.108299970626831, 3.0736000537872314, 3.03410005569458, 3.0297000408172607, 3.029599905014038, 3.029599905014038, 3.029599905014038, 2.9491000175476074, 2.9667000770568848, 2.9184000492095947, 2.772200107574463, 2.384000062942505, 1.5252000093460083, 2.6380999088287354, 2.32450008392334, 2.28410005569458, 1.635200023651123, 2.2184998989105225, 1.6643999814987183, 2.2609000205993652, 2.543600082397461, 2.3027000427246094, 1.0870000123977661, 2.2286999225616455, 1.1890000104904175, 1.454200029373169, 1.2529000043869019, 0.6919000148773193, 0.19589999318122864, 0.16699999570846558, 1.2970999479293823, 1.9537999629974365, 1.7552000284194946, 0.5551000237464905, 0.6244000196456909, -0.8001999855041504, 0.7753999829292297, 0.32760000228881836, 0.7074999809265137, -0.6618000268936157, -0.6004999876022339, 1.0533000230789185, 0.9189000129699707, -0.6119999885559082, 0.15410000085830688], \"logprob\": [30.0, 29.0, 28.0, 27.0, 26.0, 25.0, 24.0, 23.0, 22.0, 21.0, 20.0, 19.0, 18.0, 17.0, 16.0, 15.0, 14.0, 13.0, 12.0, 11.0, 10.0, 9.0, 8.0, 7.0, 6.0, 5.0, 4.0, 3.0, 2.0, 1.0, -5.686600208282471, -5.72730016708374, -5.781899929046631, -5.996600151062012, -6.323299884796143, -6.400899887084961, -6.412700176239014, -6.620200157165527, -6.620699882507324, -6.759300231933594, -6.776000022888184, -6.810400009155273, -6.827899932861328, -6.827899932861328, -6.882800102233887, -6.901599884033203, -6.901599884033203, -6.921199798583984, -6.940499782562256, -5.6697998046875, -6.981200218200684, -6.981599807739258, -7.0233001708984375, -7.023499965667725, -7.023499965667725, -7.113699913024902, -7.162199974060059, -7.18720006942749, -7.18720006942749, -7.187300205230713, -6.355899810791016, -5.543799877166748, -6.64769983291626, -7.029300212860107, -6.920899868011475, -6.020599842071533, -6.462399959564209, -6.324999809265137, -6.745100021362305, -5.933899879455566, -6.377200126647949, -5.877200126647949, -4.558199882507324, -4.033100128173828, -6.51200008392334, -5.864099979400635, -6.598499774932861, -6.557199954986572, -6.436699867248535, -5.9944000244140625, -5.626999855041504, -5.609499931335449, -6.450900077819824, -5.70959997177124, -6.013800144195557, -5.768899917602539, -5.98330020904541, -6.179200172424316, -6.117700099945068, -6.262700080871582, -5.950900077819824, -5.977099895477295, -6.008999824523926, -5.857699871063232, -5.956999778747559, -5.952899932861328, -5.850299835205078, -5.911499977111816, -6.053100109100342, -6.0100998878479, -6.054999828338623, -4.67140007019043, -5.385799884796143, -5.668499946594238, -5.7982001304626465, -5.881899833679199, -6.035900115966797, -6.045199871063232, -6.240499973297119, -6.099999904632568, -6.286900043487549, -6.335700035095215, -6.348199844360352, -6.348199844360352, -6.331500053405762, -6.400100231170654, -5.990600109100342, -6.454899787902832, -6.468999862670898, -6.469099998474121, -6.656700134277344, -6.656700134277344, -5.973100185394287, -6.728099822998047, -6.765699863433838, -6.785099983215332, -6.785099983215332, -6.785099983215332, -6.77869987487793, -6.824999809265137, -6.837699890136719, -4.629000186920166, -5.383600234985352, -5.981900215148926, -6.153500080108643, -4.89169979095459, -4.198599815368652, -5.340799808502197, -5.483099937438965, -5.466000080108643, -5.100200176239014, -4.594200134277344, -5.439700126647949, -5.356200218200684, -5.704999923706055, -5.767399787902832, -4.111499786376953, -5.7617998123168945, -5.748199939727783, -5.718200206756592, -5.452099800109863, -5.0258002281188965, -5.256499767303467, -5.416600227355957, -4.914899826049805, -5.474299907684326, -5.769000053405762, -5.3979997634887695, -5.54449987411499, -5.664899826049805, -5.377399921417236, -6.031400203704834, -6.410299777984619, -6.549900054931641, -6.594900131225586, -6.626999855041504, -6.626999855041504, -6.67549991607666, -6.780300140380859, -3.792799949645996, -6.876299858093262, -6.8632001876831055, -6.888500213623047, -6.806700229644775, -6.961400032043457, -5.714000225067139, -5.834499835968018, -7.029900074005127, -6.258399963378906, -7.103400230407715, -7.1545000076293945, -7.182700157165527, -7.182700157165527, -6.412199974060059, -7.268899917602539, -7.268899917602539, -7.268899917602539, -7.26669979095459, -7.266499996185303, -7.359600067138672, -5.085400104522705, -5.5883002281188965, -3.3529000282287598, -5.612100124359131, -6.364099979400635, -3.9175000190734863, -5.308300018310547, -6.640200138092041, -5.329699993133545, -6.054599761962891, -6.437300205230713, -6.195700168609619, -5.993800163269043, -6.177499771118164, -3.399199962615967, -5.4644999504089355, -4.820899963378906, -4.778500080108643, -3.898699998855591, -5.660600185394287, -5.595200061798096, -4.878900051116943, -5.67140007019043, -4.840000152587891, -4.5295000076293945, -4.89300012588501, -5.656199932098389, -5.453999996185303, -5.151500225067139, -5.47790002822876, -5.125500202178955, -5.508399963378906, -4.816999912261963, -5.234799861907959, -5.402400016784668, -5.64709997177124, -5.634300231933594, -5.653600215911865, -5.3059000968933105, -5.541800022125244, -5.557700157165527, -6.3130998611450195, -6.419600009918213, -6.4583001136779785, -6.459400177001953, -6.78439998626709, -6.8383002281188965, -6.899899959564209, -6.003900051116943, -6.960700035095215, -7.100500106811523, -7.100500106811523, -7.178500175476074, -7.179200172424316, -7.2631001472473145, -7.2631001472473145, -7.2631001472473145, -7.355599880218506, -7.355599880218506, -6.305200099945068, -6.8983001708984375, -7.457399845123291, -7.457699775695801, -7.458099842071533, -7.45959997177124, -7.459700107574463, -6.63539981842041, -6.683599948883057, -5.741300106048584, -6.234499931335449, -6.730999946594238, -6.540599822998047, -4.481500148773193, -4.201700210571289, -6.900100231170654, -4.031400203704834, -5.628699779510498, -6.6265997886657715, -6.216100215911865, -6.39900016784668, -5.465400218963623, -6.149099826812744, -5.882900238037109, -5.816199779510498, -5.02400016784668, -6.203000068664551, -6.279200077056885, -5.210100173950195, -6.393599987030029, -5.358399868011475, -6.040299892425537, -4.999199867248535, -5.304800033569336, -5.469299793243408, -5.631899833679199, -5.8267998695373535, -6.0366997718811035, -5.2281999588012695, -5.722599983215332, -5.5040998458862305, -5.923099994659424, -6.061600208282471, -5.994999885559082, -5.985599994659424, -5.942999839782715, -5.904600143432617, -5.894599914550781, -5.994999885559082, -6.440400123596191, -6.512800216674805, -6.512800216674805, -6.590799808502197, -6.67549991607666, -6.769400119781494, -6.869699954986572, -6.869800090789795, -6.983099937438965, -6.9832000732421875, -6.9832000732421875, -7.257900238037109, -7.260300159454346, -7.260300159454346, -7.2606000900268555, -7.429999828338623, -7.429999828338623, -7.429999828338623, -4.728899955749512, -6.7677998542785645, -6.804200172424316, -7.638000011444092, -7.6381001472473145, -7.641499996185303, -7.6793999671936035, -7.111199855804443, -7.900899887084961, -7.901000022888184, -7.901000022888184, -7.901000022888184, -6.373000144958496, -7.257999897003174, -6.983399868011475, -6.254899978637695, -5.452400207519531, -3.581399917602539, -6.60699987411499, -5.964200019836426, -5.88670015335083, -5.100299835205078, -6.037600040435791, -5.4268999099731445, -6.261199951171875, -6.612299919128418, -6.456999778747559, -5.45389986038208, -6.482100009918213, -5.719099998474121, -5.946499824523926, -6.02370023727417, -5.9380998611450195, -5.776500225067139, -5.884300231933594, -6.278200149536133, -6.467400074005127, -6.4344000816345215, -6.190100193023682, -6.237599849700928, -6.002500057220459, -6.292099952697754, -6.237800121307373, -6.294099807739258, -6.213600158691406, -6.251800060272217, -6.378300189971924, -6.407899856567383, -6.387499809265137, -6.3983001708984375]}, \"token.table\": {\"Topic\": [1, 1, 2, 4, 5, 2, 3, 5, 1, 2, 3, 4, 1, 2, 3, 4, 5, 2, 1, 2, 3, 5, 5, 1, 1, 2, 3, 4, 5, 1, 2, 3, 4, 1, 1, 2, 4, 1, 4, 4, 2, 5, 5, 1, 2, 3, 4, 5, 5, 2, 3, 2, 3, 3, 1, 1, 5, 2, 1, 2, 3, 1, 2, 3, 4, 5, 3, 1, 2, 3, 4, 5, 2, 1, 2, 3, 5, 3, 1, 2, 3, 1, 3, 1, 3, 5, 1, 2, 4, 2, 3, 2, 3, 4, 1, 2, 3, 4, 5, 1, 1, 2, 4, 5, 5, 1, 2, 3, 5, 1, 2, 3, 4, 5, 2, 1, 2, 3, 1, 5, 3, 2, 3, 4, 2, 4, 5, 4, 1, 2, 3, 4, 5, 1, 1, 3, 1, 2, 3, 2, 3, 2, 1, 2, 3, 4, 5, 5, 1, 2, 3, 4, 5, 1, 2, 4, 4, 1, 2, 4, 1, 2, 3, 4, 5, 5, 1, 2, 3, 4, 5, 1, 2, 3, 5, 2, 1, 2, 3, 2, 3, 4, 1, 1, 2, 3, 4, 2, 1, 4, 1, 2, 3, 5, 4, 1, 4, 4, 1, 4, 1, 3, 4, 1, 1, 3, 2, 3, 4, 5, 1, 4, 4, 1, 2, 3, 4, 5, 1, 2, 3, 5, 1, 2, 3, 4, 5, 1, 4, 1, 2, 3, 4, 5, 2, 3, 1, 3, 5, 1, 2, 3, 4, 5, 1, 3, 5, 1, 4, 5, 4, 1, 2, 3, 4, 5, 4, 2, 2, 3, 4, 3, 4, 3, 3, 1, 2, 4, 1, 2, 3, 5, 1, 2, 4, 1, 2, 3, 4, 5, 1, 2, 3, 4, 5, 3, 1, 2, 4, 1, 2, 3, 4, 5, 1, 2, 3, 4, 3, 3, 4, 2, 3, 4, 4, 2, 3, 1, 2, 3, 4, 5, 1, 1, 2, 4, 1, 3, 4, 3, 1, 2, 3, 4, 2, 1, 3, 5, 5, 5, 1, 2, 3, 5, 1, 2, 3, 4, 5, 1, 2, 3, 4, 5, 1, 2, 3, 4, 1, 2, 3, 4, 5, 2, 4, 5, 1, 5, 5, 4, 1, 2, 4, 1, 2, 3, 4, 5, 2, 1, 3, 4, 5, 1, 2, 3, 4, 5, 1, 2, 3, 4, 3, 2, 3, 1, 2, 3, 4, 5, 2, 3, 2, 3, 3, 3, 4, 1, 2, 3, 4, 5, 2, 5, 1, 5, 4, 1, 2, 3, 4, 5, 2, 3, 5, 1, 3, 5, 1, 2, 1, 2, 3, 4, 5, 1, 2, 3, 4, 5, 1, 2, 3, 4, 5, 5, 1, 2, 4, 5, 1, 2, 3, 4, 5, 1, 1, 2, 3, 4, 5, 4, 1, 2, 3, 4, 1, 3, 1, 2, 3, 5, 1, 2, 4, 1, 2, 3, 4, 1, 2, 4, 5, 1, 2, 3, 3, 2, 4, 1, 2, 3, 4, 5, 1, 2, 3, 4, 5, 1, 2, 3, 5, 2, 1, 2, 4, 5, 1, 2, 3, 4, 1, 2, 4, 1, 2, 3, 4, 5, 5, 1, 5, 1, 5, 1, 1, 2, 3, 4, 3, 1, 4, 4, 4, 5, 5, 2, 3, 4, 5, 1, 2, 3, 4, 1, 4, 1, 4, 1, 2, 3, 5, 1, 2, 3, 2, 2, 2, 3, 4, 1, 2, 3, 4, 5, 1, 2, 3, 4, 5, 1, 2, 3, 4, 5, 1, 4, 5, 1, 2, 3, 5, 2, 1, 2, 3, 4, 5, 1, 1, 2, 5, 1, 2, 3, 4, 1, 2, 3, 4, 1, 2, 3, 1, 1, 2, 3, 4, 1, 2, 4, 1, 1, 1, 1, 2, 3, 4, 5, 2, 1, 2, 3, 4, 5, 1, 3, 1, 2, 4, 1, 3, 1, 2, 3, 4, 5, 1, 4, 5, 1, 2, 2, 2, 3, 4, 5, 1, 2, 3, 4, 5, 4, 1, 2, 3, 4, 5, 2, 2, 3, 5, 1, 2, 3, 4, 5, 3, 4, 5, 1, 2, 3, 4, 5, 2, 3, 4, 1, 2, 2, 5, 5, 1, 2, 3, 4, 5, 4, 5, 3, 5, 1, 2, 3, 4, 1, 2, 3, 4, 5, 4, 3, 2, 5, 3, 3, 1, 4, 1, 2, 3, 4, 5, 1, 2, 3, 4, 1, 2, 3, 4, 5, 1, 2, 3, 4, 1, 1, 2, 3, 4, 5, 2, 1, 3, 5, 1, 4, 1, 2, 3, 1, 4, 5, 1, 2, 3, 4, 5, 1, 4, 1, 2, 3, 4, 5, 2, 5, 1, 1, 2, 1, 2, 1, 1], \"Freq\": [0.9903083443641663, 0.18611671030521393, 0.3542221486568451, 0.45028236508369446, 0.012007529847323895, 0.030865725129842758, 0.95683753490448, 0.8938164710998535, 0.0068611572496593, 0.02515757642686367, 0.9605620503425598, 0.0068611572496593, 0.31345903873443604, 0.4859830141067505, 0.08018719404935837, 0.11177609115839005, 0.007289745379239321, 0.9826193451881409, 0.40322375297546387, 0.07823744416236877, 0.45738813281059265, 0.06620091944932938, 0.6358946561813354, 0.9819530844688416, 0.23177433013916016, 0.6373794078826904, 0.10760951042175293, 0.013796091079711914, 0.011036872863769531, 0.029156435281038284, 0.1866011917591095, 0.45484039187431335, 0.3265520930290222, 0.9975337386131287, 0.20613530278205872, 0.16748493909835815, 0.6184059381484985, 0.033564597368240356, 0.93980872631073, 0.9673734903335571, 0.9757852554321289, 0.44380420446395874, 0.7978482842445374, 0.23941975831985474, 0.3300110101699829, 0.320304811000824, 0.1002974659204483, 0.00647080410271883, 0.7409588694572449, 0.9969806671142578, 0.9362859129905701, 0.9826086759567261, 0.9888585805892944, 0.9769763946533203, 0.9784850478172302, 0.20236900448799133, 0.6071069836616516, 0.9833279252052307, 0.02642890252172947, 0.0660722553730011, 0.8985826969146729, 0.3479868769645691, 0.41758427023887634, 0.06379759311676025, 0.16239388287067413, 0.005799781531095505, 0.943207859992981, 0.4931721091270447, 0.328781396150589, 0.12223923951387405, 0.05058175325393677, 0.0042151459492743015, 0.9928396940231323, 0.10390479117631912, 0.07792859524488449, 0.7966034412384033, 0.01731746643781662, 0.9889814257621765, 0.06819971650838852, 0.9113961458206177, 0.018599921837449074, 0.5749651193618774, 0.4249148964881897, 0.11749093979597092, 0.881182074546814, 0.4438062906265259, 0.0402788482606411, 0.9487906694412231, 0.0089508555829525, 0.12584276497364044, 0.8742055892944336, 0.03111492656171322, 0.964562714099884, 0.8809067010879517, 0.09003376960754395, 0.8463174104690552, 0.01800675317645073, 0.03001125529408455, 0.01200450211763382, 0.9840936660766602, 0.685433030128479, 0.15551842749118805, 0.15551842749118805, 0.005759941879659891, 0.6358934640884399, 0.119762122631073, 0.479048490524292, 0.119762122631073, 0.31936565041542053, 0.8329577445983887, 0.06663662195205688, 0.011106103658676147, 0.05553051829338074, 0.022212207317352295, 0.9918265342712402, 0.9405220150947571, 0.0331948958337307, 0.022129930555820465, 0.35539594292640686, 0.6219428777694702, 0.9481679797172546, 0.9949807524681091, 0.07960671931505203, 0.8756738901138306, 0.04768191650509834, 0.858274519443512, 0.07152287662029266, 0.9885032176971436, 0.03139505907893181, 0.4866234064102173, 0.047092586755752563, 0.4081357717514038, 0.015697529539465904, 0.980394184589386, 0.9243003129959106, 0.07110002636909485, 0.002816989319398999, 0.936648964881897, 0.05915677547454834, 0.20884168148040771, 0.7831563353538513, 0.9835863709449768, 0.005375898443162441, 0.6504837274551392, 0.3386816084384918, 0.0026879492215812206, 0.0026879492215812206, 0.8353815078735352, 0.47249287366867065, 0.1259980946779251, 0.17324738204479218, 0.2283715456724167, 0.00787488091737032, 0.35456204414367676, 0.08342636376619339, 0.5631279349327087, 0.9897188544273376, 0.07829521596431732, 0.15659043192863464, 0.7438045144081116, 0.08428774774074554, 0.08428774774074554, 0.028095915913581848, 0.4776305854320526, 0.3090550899505615, 0.8353273272514343, 0.008708643727004528, 0.13933829963207245, 0.6879828572273254, 0.14804694056510925, 0.008708643727004528, 0.24132756888866425, 0.040221262723207474, 0.36199134588241577, 0.3418807089328766, 0.9871435761451721, 0.008033386431634426, 0.06426709145307541, 0.9238395094871521, 0.9503336548805237, 0.03615399822592735, 0.010329713113605976, 0.9983935356140137, 0.008143620565533638, 0.9120855331420898, 0.04275400936603546, 0.036646295338869095, 0.9931520819664001, 0.9144116044044495, 0.09015325456857681, 0.8330575227737427, 0.04384513199329376, 0.08769026398658752, 0.03288384899497032, 0.9674264192581177, 0.3249843418598175, 0.6737480759620667, 0.9732850193977356, 0.984150230884552, 0.8809035420417786, 0.9726597666740417, 0.005229353439062834, 0.020917413756251335, 0.991770327091217, 0.9862657189369202, 0.9482226967811584, 0.13229762017726898, 0.06614881008863449, 0.26459524035453796, 0.5291904807090759, 0.06297049671411514, 0.8815869092941284, 0.9248982667922974, 0.46098601818084717, 0.007948034442961216, 0.42124584317207336, 0.007948034442961216, 0.10332445055246353, 0.4741310179233551, 0.06321746855974197, 0.12643493711948395, 0.3160873353481293, 0.4473942220211029, 0.3637351393699646, 0.0836590826511383, 0.098208487033844, 0.0036373513285070658, 0.29946523904800415, 0.688770055770874, 0.5479913949966431, 0.2755979895591736, 0.11857123672962189, 0.041660163551568985, 0.012818511575460434, 0.057349685579538345, 0.9175949692726135, 0.8854774832725525, 0.01341632567346096, 0.09391427785158157, 0.5365946888923645, 0.1757810264825821, 0.20661979913711548, 0.07092918455600739, 0.00925163272768259, 0.3009713292121887, 0.3009713292121887, 0.3762141764163971, 0.10881750285625458, 0.8161312341690063, 0.05440875142812729, 0.9248965382575989, 0.2024601399898529, 0.2924424409866333, 0.4499114453792572, 0.05623893067240715, 0.0056238928809762, 0.9853946566581726, 0.9811044931411743, 0.08783459663391113, 0.8344286680221558, 0.06587594747543335, 0.9810842871665955, 0.9588640928268433, 0.9767239093780518, 0.9871639609336853, 0.10994639992713928, 0.8490304946899414, 0.042756933718919754, 0.24677486717700958, 0.08225828409194946, 0.24677486717700958, 0.4112914502620697, 0.1334177404642105, 0.10006330162286758, 0.767151951789856, 0.6533170938491821, 0.0013118817005306482, 0.19809412956237793, 0.0013118817005306482, 0.14561887085437775, 0.06727869808673859, 0.422894686460495, 0.11533491313457489, 0.39406096935272217, 0.00961124338209629, 0.9557444453239441, 0.07782735675573349, 0.9015002250671387, 0.019456839188933372, 0.2595166265964508, 0.3384999632835388, 0.32157495617866516, 0.03384999558329582, 0.045133326202631, 0.0619179867208004, 0.2476719468832016, 0.02063932828605175, 0.660458505153656, 0.9362929463386536, 0.9854267835617065, 0.9665339589118958, 0.07698938250541687, 0.846883237361908, 0.07698938250541687, 0.9803478717803955, 0.1889306902885437, 0.8072493076324463, 0.33467596769332886, 0.18407177925109863, 0.016733797267079353, 0.4518125355243683, 0.016733797267079353, 0.9917923808097839, 0.9858676791191101, 0.01187792420387268, 0.9249001741409302, 0.03502654284238815, 0.9632299542427063, 0.962554931640625, 0.9432161450386047, 0.08451814949512482, 0.8832146525382996, 0.021129537373781204, 0.008451814763247967, 0.9958996772766113, 0.9865769743919373, 0.0060157133266329765, 0.0060157133266329765, 0.8938108682632446, 0.835388720035553, 0.07218129187822342, 0.2887251675128937, 0.3969971239566803, 0.21654388308525085, 0.8639726042747498, 0.051968276500701904, 0.019488103687763214, 0.051968276500701904, 0.012992069125175476, 0.3722768723964691, 0.24818459153175354, 0.11454673111438751, 0.0954556092619896, 0.17182010412216187, 0.7833353281021118, 0.029012421146035194, 0.17987701296806335, 0.005802484229207039, 0.6166210174560547, 0.14094194769859314, 0.052853234112262726, 0.17617744207382202, 0.01174516323953867, 0.9826188683509827, 0.16319936513900757, 0.6527974605560303, 0.9791616797447205, 0.020833227783441544, 0.8922545909881592, 0.9664055705070496, 0.6427707076072693, 0.00722214300185442, 0.34666284918785095, 0.3308982849121094, 0.4389467239379883, 0.1485665738582611, 0.027012106031179428, 0.054024212062358856, 0.9871194362640381, 0.9068025350570679, 0.013335331343114376, 0.06667665392160416, 0.013335331343114376, 0.28003013134002686, 0.4520968496799469, 0.15519742667675018, 0.07422485947608948, 0.03711242973804474, 0.022883664816617966, 0.11670669168233871, 0.8489839434623718, 0.009153465740382671, 0.9870063662528992, 0.026682214811444283, 0.9605597257614136, 0.38179174065589905, 0.05113282427191734, 0.5113282203674316, 0.040906257927417755, 0.013635420240461826, 0.06635873764753342, 0.9290223121643066, 0.16880054771900177, 0.8229026794433594, 0.9749472141265869, 0.9810753464698792, 0.9326279759407043, 0.3644072115421295, 0.521068274974823, 0.07833052426576614, 0.020434048026800156, 0.013622699305415154, 0.9963374733924866, 0.8381369113922119, 0.31728044152259827, 0.6345608830451965, 0.9052743315696716, 0.10780704766511917, 0.4502529799938202, 0.038049545139074326, 0.39317864179611206, 0.006341591011732817, 0.9793123006820679, 0.0022616912610828876, 0.0180935300886631, 0.9503784775733948, 0.012842952273786068, 0.025685904547572136, 0.9868900179862976, 0.9990423917770386, 0.0943218395113945, 0.40771374106407166, 0.43205487728118896, 0.06085279956459999, 0.003042639931663871, 0.054436106234788895, 0.5955950617790222, 0.3458293676376343, 0.003202123800292611, 0.003202123800292611, 0.6719794273376465, 0.017454011365771294, 0.20944814383983612, 0.026181017979979515, 0.06108904257416725, 0.4438058137893677, 0.024169744923710823, 0.93226158618927, 0.020716924220323563, 0.020716924220323563, 0.4841127097606659, 0.42945483326911926, 0.050753749907016754, 0.03513721376657486, 0.0039041347336024046, 0.9771431088447571, 0.42922961711883545, 0.052027832716703415, 0.33818089962005615, 0.052027832716703415, 0.1300695836544037, 0.9737112522125244, 0.19472338259220123, 0.40124818682670593, 0.38944676518440247, 0.011801416985690594, 0.9945592284202576, 0.9830806255340576, 0.19532029330730438, 0.585960865020752, 0.10340485721826553, 0.11489428579807281, 0.9772225022315979, 0.0439949668943882, 0.9238942861557007, 0.3386770486831665, 0.13305169343948364, 0.47475266456604004, 0.054430242627859116, 0.16547337174415588, 0.09928402304649353, 0.6949881911277771, 0.8353378176689148, 0.99288409948349, 0.07375357300043106, 0.8850428462028503, 0.9831768274307251, 0.0656140074133873, 0.9185961484909058, 0.47520118951797485, 0.12960031628608704, 0.32989174127578735, 0.047127388417720795, 0.023563694208860397, 0.38664254546165466, 0.3772883117198944, 0.17461276054382324, 0.02494468167424202, 0.03741702064871788, 0.42801374197006226, 0.2741962969303131, 0.12706658244132996, 0.16050516068935394, 0.9846795797348022, 0.7096195220947266, 0.24173852801322937, 0.01559603400528431, 0.0389900840818882, 0.3100420832633972, 0.010001357644796371, 0.6500882506370544, 0.030004072934389114, 0.09445752948522568, 0.5772404670715332, 0.31485843658447266, 0.0944690853357315, 0.7179650664329529, 0.06423898041248322, 0.11714166402816772, 0.00755752669647336, 0.6358934640884399, 0.24987441301345825, 0.728800356388092, 0.15925227105617523, 0.7962613105773926, 0.9975383877754211, 0.005070787854492664, 0.9482373595237732, 0.040566302835941315, 0.9622815847396851, 0.9303761720657349, 0.21773028373718262, 0.780200183391571, 0.9952473640441895, 0.8949911594390869, 0.8589818477630615, 0.8115212917327881, 0.9807868599891663, 0.004831462632864714, 0.004831462632864714, 0.004831462632864714, 0.6698132753372192, 0.11501844227313995, 0.16237898170948029, 0.054126325994729996, 0.37099286913871765, 0.6306878328323364, 0.07658812403678894, 0.842469334602356, 0.14419487118721008, 0.5464226603507996, 0.2428545206785202, 0.06071363016963005, 0.9772257804870605, 0.9843228459358215, 0.008788596838712692, 0.9945943355560303, 0.9869157075881958, 0.04128341004252434, 0.16513364017009735, 0.7843847870826721, 0.6350054144859314, 0.20134319365024567, 0.03097587451338768, 0.01548793725669384, 0.12390349805355072, 0.20536038279533386, 0.2536804676055908, 0.3382406234741211, 0.12080022692680359, 0.08456015586853027, 0.38534384965896606, 0.2691740095615387, 0.3145085871219635, 0.028334105387330055, 0.005666821263730526, 0.2921377122402191, 0.7045674324035645, 0.9302448630332947, 0.09179279208183289, 0.09179279208183289, 0.5201591849327087, 0.3059759736061096, 0.992763876914978, 0.42943137884140015, 0.4569590091705322, 0.016516590490937233, 0.005505530163645744, 0.0935940146446228, 0.9970207214355469, 0.9842188358306885, 0.9933522939682007, 0.7431778907775879, 0.06669968366622925, 0.5780639052391052, 0.033349841833114624, 0.31126517057418823, 0.5407183766365051, 0.355915904045105, 0.02053361013531685, 0.08555670827627182, 0.44192954897880554, 0.008338293060660362, 0.5419890880584717, 0.9923033118247986, 0.044899508357048035, 0.6804002523422241, 0.010361424647271633, 0.2659432590007782, 0.07176279276609421, 0.5806262493133545, 0.34576618671417236, 0.98410564661026, 0.9841492176055908, 0.9903102517127991, 0.3007950186729431, 0.27508604526519775, 0.35992565751075745, 0.064272440969944, 0.00257089757360518, 0.9930899143218994, 0.473371684551239, 0.13365788757801056, 0.3118683993816376, 0.04455263167619705, 0.0389835499227047, 0.9858993887901306, 0.9432161450386047, 0.9278379678726196, 0.011454788967967033, 0.057273946702480316, 0.9689226746559143, 0.017302190884947777, 0.6231342554092407, 0.18174749612808228, 0.12462685257196426, 0.06231342628598213, 0.005192785523831844, 0.11822594702243805, 0.8669902682304382, 0.8115255236625671, 0.010428600013256073, 0.9802883863449097, 0.9871177673339844, 0.2892513573169708, 0.337459921836853, 0.09641712158918381, 0.2892513573169708, 0.1990087926387787, 0.23217692971229553, 0.18795274198055267, 0.3648494482040405, 0.011056044138967991, 0.9596949219703674, 0.1532907485961914, 0.1532907485961914, 0.6131629943847656, 0.019161343574523926, 0.05748403072357178, 0.9909791946411133, 0.9623189568519592, 0.03467816114425659, 0.002889846684411168, 0.5544370412826538, 0.27907904982566833, 0.05953686311841011, 0.09302634745836258, 0.014884215779602528, 0.5439352989196777, 0.2576535642147064, 0.17176903784275055, 0.28047898411750793, 0.5957618951797485, 0.05732417106628418, 0.05118229240179062, 0.016378333792090416, 0.7962830066680908, 0.17310500144958496, 0.02308066561818123, 0.008732875809073448, 0.9868149757385254, 0.9853350520133972, 0.7409547567367554, 0.8922501802444458, 0.254909485578537, 0.10547979176044464, 0.6065087914466858, 0.00878998264670372, 0.01757996529340744, 0.9666976928710938, 0.44380608201026917, 0.940048098564148, 0.7408604025840759, 0.8824892640113831, 0.021011648699641228, 0.021011648699641228, 0.07704271376132965, 0.22964926064014435, 0.4592985212802887, 0.22964926064014435, 0.07772744446992874, 0.003533065551891923, 0.8949919939041138, 0.9595890641212463, 0.990308403968811, 0.008921696804463863, 0.9397781491279602, 0.9849100112915039, 0.9854617714881897, 0.01589454524219036, 0.4380996823310852, 0.13981905579566956, 0.18642540276050568, 0.1584615856409073, 0.06524889171123505, 0.0191434808075428, 0.9188870787620544, 0.043072834610939026, 0.0191434808075428, 0.13857977092266083, 0.46915024518966675, 0.2901513874530792, 0.08805589377880096, 0.014435392804443836, 0.029184650629758835, 0.24969089031219482, 0.06809751689434052, 0.6550332903862, 0.9924785494804382, 0.09730652719736099, 0.44300076365470886, 0.37642261385917664, 0.06401745229959488, 0.01792488619685173, 0.9958905577659607, 0.5062683820724487, 0.15188051760196686, 0.3037610352039337, 0.2670880854129791, 0.7122349143028259, 0.6425630450248718, 0.07755070924758911, 0.27696681022644043, 0.06020698323845863, 0.9031047224998474, 0.8922539949417114, 0.1695040911436081, 0.3390081822872162, 0.2260054498910904, 0.23228338360786438, 0.025111716240644455, 0.10576776415109634, 0.8461421132087708, 0.11385192722082138, 0.8311190605163574, 0.017077788710594177, 0.028462981805205345, 0.011385193094611168, 0.219099223613739, 0.657297670841217, 0.9889849424362183, 0.9821581840515137, 0.9927651286125183, 0.9351945519447327, 0.056924887001514435, 0.9843736886978149, 0.9885340929031372], \"Term\": [\"acceso\", \"access\", \"access\", \"access\", \"access\", \"accuracy\", \"accuracy\", \"adelson\", \"algorithm\", \"algorithm\", \"algorithm\", \"algorithm\", \"also\", \"also\", \"also\", \"also\", \"also\", \"amazon\", \"analysis\", \"analysis\", \"analysis\", \"analysis\", \"anderson\", \"anisotropic_di\\ufb00usion\", \"application\", \"application\", \"application\", \"application\", \"application\", \"attribute\", \"attribute\", \"attribute\", \"attribute\", \"autenticaci\", \"authentication\", \"authentication\", \"authentication\", \"authorisation\", \"authorisation\", \"authority\", \"availability\", \"award\", \"bandpass\", \"base\", \"base\", \"base\", \"base\", \"base\", \"bergen\", \"bigtable\", \"bilinear_program\", \"blog_post\", \"bone\", \"brain\", \"bundle\", \"burt\", \"burt\", \"cache\", \"calculate\", \"calculate\", \"calculate\", \"call\", \"call\", \"call\", \"call\", \"call\", \"cardiovascular\", \"case\", \"case\", \"case\", \"case\", \"case\", \"cassandra\", \"center\", \"center\", \"center\", \"center\", \"centroid\", \"cf\", \"cf\", \"cf\", \"cid\", \"cid\", \"classification\", \"classification\", \"classroom\", \"client\", \"client\", \"client\", \"cluster\", \"cluster\", \"clustering\", \"clustering\", \"code_gn_secur\", \"com\", \"com\", \"com\", \"com\", \"com\", \"como\", \"complex\", \"complex\", \"complex\", \"complex\", \"composite\", \"compression\", \"compression\", \"compression\", \"compression\", \"con\", \"con\", \"con\", \"con\", \"con\", \"consistency\", \"continuous\", \"continuous\", \"continuous\", \"convolve\", \"convolve\", \"correctness\", \"couchdb\", \"country\", \"country\", \"credential\", \"credential\", \"credential\", \"cui\", \"current\", \"current\", \"current\", \"current\", \"current\", \"curvature\", \"curve\", \"curve\", \"database\", \"database\", \"database\", \"dataset\", \"dataset\", \"datastore\", \"datum\", \"datum\", \"datum\", \"datum\", \"datum\", \"decker\", \"define\", \"define\", \"define\", \"define\", \"define\", \"definition\", \"definition\", \"definition\", \"deliverable_dj_radsec_standardisation\", \"deploy\", \"deploy\", \"deploy\", \"device\", \"device\", \"device\", \"device\", \"device\", \"device_specific\", \"different\", \"different\", \"different\", \"different\", \"different\", \"digital\", \"digital\", \"digital\", \"digital\", \"disk\", \"distance\", \"distance\", \"distance\", \"distribute\", \"distribute\", \"distribute\", \"di\\ufb00usion\", \"document\", \"document\", \"document\", \"document\", \"dynamo\", \"eap\", \"eap\", \"edge\", \"edge\", \"edge\", \"edge\", \"eduperson\", \"eduroam\", \"eduroam\", \"eduroam_extensions_document\", \"entre\", \"entry_chargeable\", \"equation\", \"equation\", \"equation\", \"esta\", \"este\", \"euclidean_distance\", \"expand\", \"expand\", \"expand\", \"expand\", \"federation\", \"federation\", \"federation_proxy\", \"fig\", \"fig\", \"fig\", \"fig\", \"fig\", \"filter\", \"filter\", \"filter\", \"filter\", \"follow\", \"follow\", \"follow\", \"follow\", \"follow\", \"freeradius\", \"freeradius\", \"function\", \"function\", \"function\", \"function\", \"function\", \"fuzzy\", \"fuzzy\", \"gaussian\", \"gaussian\", \"gaussian\", \"give\", \"give\", \"give\", \"give\", \"give\", \"gl\", \"gl\", \"gl\", \"gn\", \"gn\", \"gn\", \"gn_jra\", \"group\", \"group\", \"group\", \"group\", \"group\", \"guest\", \"hbase\", \"hierarchical\", \"hierarchical\", \"hierarchical\", \"hierarchical_algorithm\", \"home_institution\", \"homogeneity\", \"horizontal_band\", \"http\", \"http\", \"http\", \"human\", \"human\", \"human\", \"human\", \"ietf\", \"ietf\", \"ietf\", \"image\", \"image\", \"image\", \"image\", \"image\", \"implementation\", \"implementation\", \"implementation\", \"implementation\", \"implementation\", \"imputation\", \"index\", \"index\", \"index\", \"information\", \"information\", \"information\", \"information\", \"information\", \"infrastructure\", \"infrastructure\", \"infrastructure\", \"infrastructure\", \"initial_centre\", \"initial_centroid\", \"initiative\", \"input\", \"input\", \"input\", \"institution\", \"international_journal\", \"international_journal\", \"internet\", \"internet\", \"internet\", \"internet\", \"internet\", \"invariance\", \"invariant\", \"invariant\", \"ipr\", \"iteration\", \"iteration\", \"jradius\", \"kaur\", \"key\", \"key\", \"key\", \"key\", \"key_value_store\", \"la\", \"la\", \"la\", \"laplacian_pyramid\", \"lcl\", \"learn\", \"learn\", \"learn\", \"learn\", \"let\", \"let\", \"let\", \"let\", \"let\", \"level\", \"level\", \"level\", \"level\", \"level\", \"linear\", \"linear\", \"linear\", \"linear\", \"local\", \"local\", \"local\", \"local\", \"local\", \"lock\", \"login\", \"login\", \"los\", \"los\", \"lowpass\", \"mani\", \"manifold\", \"manifold\", \"manifold\", \"many\", \"many\", \"many\", \"many\", \"many\", \"mapreduce\", \"math\", \"math\", \"math\", \"math\", \"may\", \"may\", \"may\", \"may\", \"may\", \"mean\", \"mean\", \"mean\", \"mean\", \"mean_cluster\", \"median\", \"median\", \"method\", \"method\", \"method\", \"method\", \"method\", \"mining\", \"mining\", \"miss\", \"miss\", \"missing_value\", \"missing_value_imputation\", \"mobility\", \"model\", \"model\", \"model\", \"model\", \"model\", \"mongodb\", \"mosaic\", \"multiresolution\", \"multiresolution\", \"nas\", \"network\", \"network\", \"network\", \"network\", \"network\", \"node\", \"node\", \"node\", \"nonlinear\", \"nonlinear\", \"nonlinear\", \"nonlinear_di\\ufb00usion\", \"nosql\", \"number\", \"number\", \"number\", \"number\", \"number\", \"object\", \"object\", \"object\", \"object\", \"object\", \"obtain\", \"obtain\", \"obtain\", \"obtain\", \"obtain\", \"ogden\", \"operation\", \"operation\", \"operation\", \"operation\", \"order\", \"order\", \"order\", \"order\", \"order\", \"origen\", \"original\", \"original\", \"original\", \"original\", \"original\", \"packet\", \"paper\", \"paper\", \"paper\", \"paper\", \"para\", \"patient\", \"pattern\", \"pattern\", \"pattern\", \"pattern\", \"pde\", \"permis\", \"permis\", \"point\", \"point\", \"point\", \"point\", \"policy\", \"policy\", \"policy\", \"politze\", \"por\", \"predict\", \"predict\", \"prediction\", \"privacy\", \"privacy\", \"problem\", \"problem\", \"problem\", \"problem\", \"problem\", \"process\", \"process\", \"process\", \"process\", \"process\", \"processing\", \"processing\", \"processing\", \"processing\", \"project_voldemort\", \"property\", \"property\", \"property\", \"property\", \"propose\", \"propose\", \"propose\", \"propose\", \"protocol\", \"protocol\", \"protocol\", \"provide\", \"provide\", \"provide\", \"provide\", \"provide\", \"pyra\", \"pyramid\", \"pyramid\", \"pyramid_level\", \"pyramid_level\", \"que\", \"query\", \"query\", \"query\", \"radiator\", \"radiograph\", \"radius\", \"radius\", \"radsec\", \"radsecproxy\", \"rca\", \"rca_laboratorie\", \"read\", \"read\", \"read\", \"read\", \"real\", \"real\", \"real\", \"real\", \"real_analytic\", \"real_analytic\", \"realm\", \"realm\", \"reduce\", \"reduce\", \"reduce\", \"reduce\", \"regularization\", \"relational\", \"relational\", \"replica\", \"replication\", \"repository\", \"repository\", \"repository\", \"representation\", \"representation\", \"representation\", \"representation\", \"representation\", \"research\", \"research\", \"research\", \"research\", \"research\", \"result\", \"result\", \"result\", \"result\", \"result\", \"roam\", \"roam\", \"rwth_aachen_university\", \"sample\", \"sample\", \"sample\", \"sample\", \"scalability\", \"scale\", \"scale\", \"scale\", \"scale\", \"scale\", \"scale_space\", \"scale_space_propertie\", \"schema\", \"scientist\", \"security\", \"security\", \"security\", \"security\", \"see\", \"see\", \"see\", \"see\", \"segmentation\", \"segmentation\", \"segmentation\", \"semidiscrete\", \"server\", \"server\", \"server\", \"server\", \"service\", \"service\", \"service\", \"servicio\", \"servidor\", \"servidor_radius\", \"set\", \"set\", \"set\", \"set\", \"set\", \"shard\", \"show\", \"show\", \"show\", \"show\", \"show\", \"sip\", \"skeletal\", \"smooth\", \"smooth\", \"smooth\", \"smoothing\", \"smoothing\", \"solution\", \"solution\", \"solution\", \"solution\", \"solution\", \"sp\", \"sp\", \"spatial_frequency\", \"sql\", \"sql\", \"sstable\", \"stage\", \"stage\", \"stage\", \"stage\", \"standard\", \"standard\", \"standard\", \"standard\", \"standard\", \"standardisation\", \"step\", \"step\", \"step\", \"step\", \"step\", \"storage\", \"store\", \"store\", \"store\", \"structure\", \"structure\", \"structure\", \"structure\", \"structure\", \"student\", \"student\", \"student\", \"system\", \"system\", \"system\", \"system\", \"system\", \"table\", \"table\", \"table\", \"tablet\", \"tablet\", \"tablet_server\", \"tacnet\", \"target_pattern\", \"technique\", \"technique\", \"technique\", \"technique\", \"technique\", \"terena_task_force\", \"tern\", \"texture_analysis\", \"theft\", \"theorem\", \"theorem\", \"theorem\", \"theorem\", \"time\", \"time\", \"time\", \"time\", \"time\", \"tls_radsec\", \"training\", \"transaction\", \"transaction\", \"tumor\", \"tumour\", \"una\", \"una\", \"university\", \"university\", \"university\", \"university\", \"university\", \"update\", \"update\", \"update\", \"update\", \"use\", \"use\", \"use\", \"use\", \"use\", \"user\", \"user\", \"user\", \"user\", \"usuario\", \"value\", \"value\", \"value\", \"value\", \"value\", \"vector_clock\", \"visual\", \"visual\", \"visual\", \"vlan\", \"vlan\", \"vol\", \"vol\", \"vol\", \"vpn\", \"vpn\", \"weighting_function\", \"work\", \"work\", \"work\", \"work\", \"work\", \"working_group\", \"working_group\", \"write\", \"write\", \"write\", \"write\", \"write\", \"zone\", \"zone\", \"\\u0631\\u062f\", \"\\u06cc\\u0627\\ufeae\\ufe91\", \"\\ufb01le\", \"\\ufb01lter\", \"\\ufb01lter\", \"\\ufe9f\\u0627\\ufeae\\ufee3\", \"\\ufeb3\\u0631\\ufe8e\\ufed3\"]}, \"R\": 30, \"lambda.step\": 0.01, \"plot.opts\": {\"xlab\": \"PC1\", \"ylab\": \"PC2\"}, \"topic.order\": [5, 2, 3, 4, 1]};\n",
       "\n",
       "function LDAvis_load_lib(url, callback){\n",
       "  var s = document.createElement('script');\n",
       "  s.src = url;\n",
       "  s.async = true;\n",
       "  s.onreadystatechange = s.onload = callback;\n",
       "  s.onerror = function(){console.warn(\"failed to load library \" + url);};\n",
       "  document.getElementsByTagName(\"head\")[0].appendChild(s);\n",
       "}\n",
       "\n",
       "if(typeof(LDAvis) !== \"undefined\"){\n",
       "   // already loaded: just create the visualization\n",
       "   !function(LDAvis){\n",
       "       new LDAvis(\"#\" + \"ldavis_el570114037206818160077397465\", ldavis_el570114037206818160077397465_data);\n",
       "   }(LDAvis);\n",
       "}else if(typeof define === \"function\" && define.amd){\n",
       "   // require.js is available: use it to load d3/LDAvis\n",
       "   require.config({paths: {d3: \"https://cdnjs.cloudflare.com/ajax/libs/d3/3.5.5/d3.min\"}});\n",
       "   require([\"d3\"], function(d3){\n",
       "      window.d3 = d3;\n",
       "      LDAvis_load_lib(\"https://cdn.rawgit.com/bmabey/pyLDAvis/files/ldavis.v1.0.0.js\", function(){\n",
       "        new LDAvis(\"#\" + \"ldavis_el570114037206818160077397465\", ldavis_el570114037206818160077397465_data);\n",
       "      });\n",
       "    });\n",
       "}else{\n",
       "    // require.js not available: dynamically load d3 & LDAvis\n",
       "    LDAvis_load_lib(\"https://cdnjs.cloudflare.com/ajax/libs/d3/3.5.5/d3.min.js\", function(){\n",
       "         LDAvis_load_lib(\"https://cdn.rawgit.com/bmabey/pyLDAvis/files/ldavis.v1.0.0.js\", function(){\n",
       "                 new LDAvis(\"#\" + \"ldavis_el570114037206818160077397465\", ldavis_el570114037206818160077397465_data);\n",
       "            })\n",
       "         });\n",
       "}\n",
       "</script>"
      ],
      "text/plain": [
       "PreparedData(topic_coordinates=              x         y  topics  cluster       Freq\n",
       "topic                                                \n",
       "4      0.147591  0.025494       1        1  37.782906\n",
       "1     -0.201207 -0.102645       2        1  35.191719\n",
       "2     -0.093706  0.191510       3        1  14.819378\n",
       "3      0.052773 -0.103943       4        1   9.025909\n",
       "0      0.094549 -0.010415       5        1   3.180090, topic_info=      Category         Freq            Term        Total  loglift  logprob\n",
       "term                                                                      \n",
       "3728   Default  1466.000000             cid  1466.000000  30.0000  30.0000\n",
       "723    Default   762.000000           image   762.000000  29.0000  29.0000\n",
       "10818  Default   746.000000         cluster   746.000000  28.0000  28.0000\n",
       "2027   Default  1116.000000           datum  1116.000000  27.0000  27.0000\n",
       "2906   Default   437.000000       algorithm   437.000000  26.0000  26.0000\n",
       "954    Default   436.000000            mean   436.000000  25.0000  25.0000\n",
       "3788   Default   308.000000            user   308.000000  24.0000  24.0000\n",
       "3851   Default   709.000000        database   709.000000  23.0000  23.0000\n",
       "7870   Default   252.000000         eduroam   252.000000  22.0000  22.0000\n",
       "4941   Default   442.000000            node   442.000000  21.0000  21.0000\n",
       "12077  Default   415.000000           nosql   415.000000  20.0000  20.0000\n",
       "7057   Default   165.000000          radius   165.000000  19.0000  19.0000\n",
       "7937   Default   289.000000          server   289.000000  18.0000  18.0000\n",
       "439    Default   491.000000        document   491.000000  17.0000  17.0000\n",
       "1602   Default   692.000000             use   692.000000  16.0000  16.0000\n",
       "5085   Default   346.000000           store   346.000000  15.0000  15.0000\n",
       "3557   Default   149.000000      processing   149.000000  14.0000  14.0000\n",
       "1092   Default   289.000000       operation   289.000000  13.0000  13.0000\n",
       "961    Default   293.000000          method   293.000000  12.0000  12.0000\n",
       "1132   Default   330.000000           point   330.000000  11.0000  11.0000\n",
       "3932   Default   181.000000           scale   181.000000  10.0000  10.0000\n",
       "3608   Default   166.000000          access   166.000000   9.0000   9.0000\n",
       "1611   Default   390.000000           value   390.000000   8.0000   8.0000\n",
       "1755   Default   124.000000        distance   124.000000   7.0000   7.0000\n",
       "1040   Default   328.000000          number   328.000000   6.0000   6.0000\n",
       "1044   Default   312.000000          object   312.000000   5.0000   5.0000\n",
       "13360  Default   203.000000         mongodb   203.000000   4.0000   4.0000\n",
       "4707   Default   171.000000       attribute   171.000000   3.0000   3.0000\n",
       "7938   Default   153.000000         service   153.000000   2.0000   2.0000\n",
       "921    Default   138.000000        manifold   138.000000   1.0000   1.0000\n",
       "...        ...          ...             ...          ...      ...      ...\n",
       "4787    Topic5    11.111303          device    35.592361   2.2841  -5.8867\n",
       "3557    Topic5    24.395628      processing   149.527908   1.6352  -5.1003\n",
       "3568    Topic5     9.555403          sample    32.682304   2.2185  -6.0376\n",
       "4892    Topic5    17.598022           level   104.760735   1.6644  -5.4269\n",
       "3471    Topic5     7.640598     compression    25.049656   2.2609  -6.2612\n",
       "633     Topic5     5.378384              gl    13.290302   2.5436  -6.6123\n",
       "3588    Topic5     6.282242          visual    19.752369   2.3027  -6.4570\n",
       "3932    Topic5    17.128763           scale   181.635544   1.0870  -5.4539\n",
       "5083    Topic5     6.126547           stage    20.743204   2.2287  -6.4821\n",
       "558     Topic5    13.139106             fig   125.817268   1.1890  -5.7191\n",
       "2232    Topic5    10.467075        original    76.881927   1.4542  -5.9465\n",
       "1840    Topic5     9.688553         pattern    87.036530   1.2529  -6.0237\n",
       "66      Topic5    10.555387        analysis   166.160843   0.6919  -5.9381\n",
       "2762    Topic5    12.405853         process   320.709656   0.1959  -5.7765\n",
       "952     Topic5    11.138795             may   296.396667   0.1670  -5.8843\n",
       "14      Topic5     7.512129  representation    64.566376   1.2971  -6.2782\n",
       "2992    Topic5     6.216936           learn    27.708010   1.9538  -6.4674\n",
       "3079    Topic5     6.425817         student    34.930626   1.7552  -6.4344\n",
       "929     Topic5     8.203994            many   148.081757   0.5551  -6.1901\n",
       "1211    Topic5     7.823521          reduce   131.766129   0.6244  -6.2376\n",
       "1602    Topic5     9.896678             use   692.741821  -0.8002  -6.0025\n",
       "1596    Topic5     7.408045      university   107.281517   0.7754  -6.2921\n",
       "755     Topic5     7.821973     information   177.252609   0.3276  -6.2378\n",
       "1048    Topic5     7.393060          obtain   114.586838   0.7075  -6.2941\n",
       "17      Topic5     8.013568          system   488.450165  -0.6618  -6.2136\n",
       "4941    Topic5     7.712571            node   442.147003  -0.6005  -6.2518\n",
       "2593    Topic5     6.796134        gaussian    74.536057   1.0533  -6.3783\n",
       "2278    Topic5     6.598385        research    82.781303   0.9189  -6.4079\n",
       "1611    Topic5     6.734149           value   390.518524  -0.6120  -6.3875\n",
       "16      Topic5     6.661715            show   179.562912   0.1541  -6.3983\n",
       "\n",
       "[366 rows x 6 columns], token_table=       Topic      Freq                  Term\n",
       "term                                        \n",
       "8053       1  0.990308                acceso\n",
       "3608       1  0.186117                access\n",
       "3608       2  0.354222                access\n",
       "3608       4  0.450282                access\n",
       "3608       5  0.012008                access\n",
       "5190       2  0.030866              accuracy\n",
       "5190       3  0.956838              accuracy\n",
       "4681       5  0.893816               adelson\n",
       "2906       1  0.006861             algorithm\n",
       "2906       2  0.025158             algorithm\n",
       "2906       3  0.960562             algorithm\n",
       "2906       4  0.006861             algorithm\n",
       "57         1  0.313459                  also\n",
       "57         2  0.485983                  also\n",
       "57         3  0.080187                  also\n",
       "57         4  0.111776                  also\n",
       "57         5  0.007290                  also\n",
       "12148      2  0.982619                amazon\n",
       "66         1  0.403224              analysis\n",
       "66         2  0.078237              analysis\n",
       "66         3  0.457388              analysis\n",
       "66         5  0.066201              analysis\n",
       "4698       5  0.635895              anderson\n",
       "5268       1  0.981953  anisotropic_diﬀusion\n",
       "1698       1  0.231774           application\n",
       "1698       2  0.637379           application\n",
       "1698       3  0.107610           application\n",
       "1698       4  0.013796           application\n",
       "1698       5  0.011037           application\n",
       "4707       1  0.029156             attribute\n",
       "...      ...       ...                   ...\n",
       "3588       5  0.303761                visual\n",
       "8887       1  0.267088                  vlan\n",
       "8887       4  0.712235                  vlan\n",
       "1902       1  0.642563                   vol\n",
       "1902       2  0.077551                   vol\n",
       "1902       3  0.276967                   vol\n",
       "7953       1  0.060207                   vpn\n",
       "7953       4  0.903105                   vpn\n",
       "5142       5  0.892254    weighting_function\n",
       "1673       1  0.169504                  work\n",
       "1673       2  0.339008                  work\n",
       "1673       3  0.226005                  work\n",
       "1673       4  0.232283                  work\n",
       "1673       5  0.025112                  work\n",
       "7961       1  0.105768         working_group\n",
       "7961       4  0.846142         working_group\n",
       "1676       1  0.113852                 write\n",
       "1676       2  0.831119                 write\n",
       "1676       3  0.017078                 write\n",
       "1676       4  0.028463                 write\n",
       "1676       5  0.011385                 write\n",
       "5151       2  0.219099                  zone\n",
       "5151       5  0.657298                  zone\n",
       "4021       1  0.988985                    رد\n",
       "4158       1  0.982158                  یاﺮﺑ\n",
       "14328      2  0.992765                   ﬁle\n",
       "7801       1  0.935195                 ﬁlter\n",
       "7801       2  0.056925                 ﬁlter\n",
       "4332       1  0.984374                  ﺟاﺮﻣ\n",
       "4450       1  0.988534                  ﺳرﺎﻓ\n",
       "\n",
       "[757 rows x 3 columns], R=30, lambda_step=0.01, plot_opts={'xlab': 'PC1', 'ylab': 'PC2'}, topic_order=[5, 2, 3, 4, 1])"
      ]
     },
     "execution_count": 18,
     "metadata": {},
     "output_type": "execute_result"
    }
   ],
   "source": [
    "# Visualize the topics\n",
    "pyLDAvis.enable_notebook()\n",
    "vis = pyLDAvis.gensim.prepare(lda_model, corpus, id2word)\n",
    "vis"
   ]
  },
  {
   "cell_type": "markdown",
   "metadata": {},
   "source": [
    "# Whoosh"
   ]
  },
  {
   "cell_type": "markdown",
   "metadata": {},
   "source": [
    "El último apartado de la tarea consiste en realizar el ejercicio opcional sobre Whoosh. La información ha sido extraída de https://whoosh.readthedocs.io/en/latest/intro.html. Lo primero que hemos de realizar para poder indexar los documentos y hacer búsquedas sobre los índices es definir un Schema. Los schemas especifican los campos de los documentos en los índices.\n",
    "\n",
    "Todos los atributos del Schema son de tipo TEXT, que como su propio nombre indica, sirve para representar texto escrito. El parámetro *stored* es un booleano que indica si el campo de texto estará disponible en los resultados de la búsqueda. Por otro lado, el atributo analyzer indica el tipo de analizador que permite extraer *tokens* de nuestro schema. Un analizador empaqueta un *tokenizador* y cero o más filtros en una única unidad.\n",
    "\n",
    "En nuestro caso, hemos usado el analizador estándar, que consiste en un *tokenizador* de expresiones regulares con un filtro que transforma las palabras a minúscula, y un filtro que marca y elimina las *stopwords*."
   ]
  },
  {
   "cell_type": "code",
   "execution_count": 19,
   "metadata": {},
   "outputs": [],
   "source": [
    "# creamos el schema\n",
    "schema = Schema(title=TEXT(stored=True),\n",
    "                author=TEXT(stored=True),\n",
    "                text=TEXT(stored=False, analyzer=StandardAnalyzer()),\n",
    "                abstract=TEXT(stored=False, analyzer=StandardAnalyzer()))"
   ]
  },
  {
   "cell_type": "markdown",
   "metadata": {},
   "source": [
    "Tras definir el esquema, el siguiente paso es añadir un índice a un directorio, usando ese esquema. En nuestro caso, hemos elegido el directorio actual. Para abrir ese índice en el directorio se usa la función *open_dir*. \n",
    "\n",
    "Una vez creado el índice, ya podemos añadirle documentos con un objeto IndexWriter. Para ello, obtenemos un dataframe leyendo el archivo json guardado en el paso 3 y extraemos las características de cada documento (definidas en el schema) para incorporarlas al IndexWriter. Cuando ya hemos terminado de añadir documentos, se llama a la función *commit*, que termina la escritura y desbloquea el índice."
   ]
  },
  {
   "cell_type": "code",
   "execution_count": 20,
   "metadata": {},
   "outputs": [],
   "source": [
    "# creamos el índice\n",
    "ix = index.create_in(\".\", schema)\n",
    "ix = index.open_dir(\".\")\n",
    "\n",
    "writer = ix.writer()\n",
    "\n",
    "# obtenemos el dataframe y añadimos al writer todos los documentos\n",
    "df = pd.read_json('pubs.json')\n",
    "for idx, row in df.iterrows():\n",
    "    writer.add_document(title=row[\"title\"], author=row[\"author\"],\n",
    "                   abstract=row[\"abstract\"], text=row[\"text\"])\n",
    "writer.commit()"
   ]
  },
  {
   "cell_type": "markdown",
   "metadata": {},
   "source": [
    "El paso final en este ejercicio es la realización de búsquedas sobre el índice anterior. Para ello se usa un objeto de tipo Searcher. El método más importante de Searcher es search(), que nos permite, dado un objeto de tipo Query, devolver el resultado de la búsqueda que le pidamos. \n",
    "\n",
    "En nuestro caso, para crear la query hemos de definir primero un objeto QueryParser, que recibe como parámetros el atributo del schema (el texto del documento) sobre el que queremos hacer la búsqueda, y el schema. Una vez lo tenemos, parseamos la frase que queremos buscar usando el parser y obtenemos nuestro objeto Query. \n",
    "\n",
    "Por último, abrimos el *searcher* para realizar la búsqueda, y definimos, con el parámetro *limit* de search(), que se devuelvan todos los documentos que hagan *match* con la query, sin límite. Cuando se completa la búsqueda, imprimimos todos los resultados obtenidos (en nuestro caso 3).\n",
    "\n",
    "Cabe destacar que el objeto devuelto por el método search() es de tipo Results, el cual, tal y como dice la documentación (https://whoosh.readthedocs.io/en/latest/api/searching.html#whoosh.searching.Results), puede ser tratado como una lista de diccionarios, donde cada diccionario contiene los campos guardados (stored=True) al definir el schema.\n",
    "\n",
    "Una vez hemos acabado, la función *with* se encarga de cerrar automáticamente el searcher."
   ]
  },
  {
   "cell_type": "code",
   "execution_count": 21,
   "metadata": {},
   "outputs": [
    {
     "name": "stdout",
     "output_type": "stream",
     "text": [
      "<Hit {'author': 'MM Rahman and DN Davis', 'title': 'Fuzzy unordered rules induction algorithm used as missing value imputation methods for k-mean clustering on real cardiovascular data'}>\n",
      "<Hit {'author': 'B Decker and M Politze and R Renner', 'title': 'Device specific credentials to protect from identity theft in Eduroam'}>\n",
      "<Hit {'author': 'J Yadav and M Sharma', 'title': 'A Review of K-mean Algorithm'}>\n"
     ]
    }
   ],
   "source": [
    "qp = QueryParser(\"text\", schema=ix.schema)\n",
    "q = qp.parse(u\"artificial intelligence\")\n",
    "\n",
    "with ix.searcher() as s:\n",
    "    results = s.search(q, limit = None) # poniendo limit a None nos devuelve todos los resultados\n",
    "    for result in results:\n",
    "        print(result)\n"
   ]
  }
 ],
 "metadata": {
  "kernelspec": {
   "display_name": "Python 3",
   "language": "python",
   "name": "python3"
  },
  "language_info": {
   "codemirror_mode": {
    "name": "ipython",
    "version": 3
   },
   "file_extension": ".py",
   "mimetype": "text/x-python",
   "name": "python",
   "nbconvert_exporter": "python",
   "pygments_lexer": "ipython3",
   "version": "3.6.9"
  }
 },
 "nbformat": 4,
 "nbformat_minor": 2
}
